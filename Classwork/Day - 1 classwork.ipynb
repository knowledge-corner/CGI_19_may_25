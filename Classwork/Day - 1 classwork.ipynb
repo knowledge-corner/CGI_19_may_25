{
 "cells": [
  {
   "cell_type": "markdown",
   "metadata": {},
   "source": [
    "### Agenda\n",
    "- Python Revision\n",
    "- Numpy Library - Arrays\n",
    "- Matplotlib  - Visualization\n",
    "- Pandas - Dataframe\n",
    "- Seaborn and pandas\n",
    "- plotly library + dash(framework using flask)"
   ]
  },
  {
   "cell_type": "markdown",
   "metadata": {
    "jp-MarkdownHeadingCollapsed": true
   },
   "source": [
    "### **Installing and Using Python with Different IDEs**\n",
    "\n",
    "#### **Step 1. Installing Python**\n",
    "1. Visit [Python's official website](https://www.python.org/downloads/).\n",
    "2. Download the latest version for your OS (Windows, macOS, Linux).\n",
    "3. Run the installer and check the option **\"Add Python to PATH\"** before installation.\n",
    "4. Verify installation:\n",
    "   - Open a terminal or command prompt.\n",
    "   - Type `python --version` to confirm installation.\n",
    "\n",
    "---\n",
    "#### **Step 2. Using Python in VS Code**\n",
    "**Installation**\n",
    "1. Download and install [VS Code](https://code.visualstudio.com/Download).\n",
    "2. Install the Python extension:\n",
    "   - Open VS Code.\n",
    "   - Go to **Extensions (`Ctrl+Shift+X`)** and search for **Python**.\n",
    "   - Install the Python extension by Microsoft.\n",
    "\n",
    "**Using Python**\n",
    "1. Open VS Code and create a new `.py` file.\n",
    "2. Write Python code and save the file.\n",
    "3. Run the script:\n",
    "   - Open the terminal (`Ctrl+~`).\n",
    "   - Run `python filename.py`.\n",
    "\n",
    "---\n",
    "\n",
    "#### **Alternate option. Using Python in Google Colab**\n",
    "1. Go to [Google Colab](https://colab.research.google.com/).\n",
    "2. Click **\"New Notebook\"**.\n",
    "3. Write Python code in a cell.\n",
    "4. Run the cell using **Shift+Enter**."
   ]
  },
  {
   "cell_type": "markdown",
   "metadata": {
    "jp-MarkdownHeadingCollapsed": true
   },
   "source": [
    "## Python Revision"
   ]
  },
  {
   "cell_type": "markdown",
   "metadata": {},
   "source": [
    "#### Python Data Types\n",
    "<table style=\"width: 100%; border-collapse: collapse; border: 1px solid #ccc; text-align: left;\">\n",
    "  <tr style=\"background-color: #050A30; color: white;\">\n",
    "        <th style=\"border: 1px solid #ccc; padding: 8px;\">Category</th>\n",
    "        <th style=\"border: 1px solid #ccc; padding: 8px;\">Data Type</th>\n",
    "        <th style=\"border: 1px solid #ccc; padding: 8px;\">Description</th>\n",
    "        <th style=\"border: 1px solid #ccc; padding: 8px;\">Examples</th>\n",
    "    </tr>\n",
    "    <tr>\n",
    "        <td style=\"border: 1px solid #ccc; padding: 8px;\">Numeric</td>\n",
    "        <td style=\"border: 1px solid #ccc; padding: 8px;\">int</td>\n",
    "        <td style=\"border: 1px solid #ccc; padding: 8px;\">Integer, represents whole numbers</td>\n",
    "        <td style=\"border: 1px solid #ccc; padding: 8px;\">5, -12, 0</td>\n",
    "    </tr>\n",
    "    <tr>\n",
    "        <td style=\"border: 1px solid #ccc; padding: 8px;\">Numeric</td>\n",
    "        <td style=\"border: 1px solid #ccc; padding: 8px;\">float</td>\n",
    "        <td style=\"border: 1px solid #ccc; padding: 8px;\">Floating-point, represents real numbers with a decimal</td>\n",
    "        <td style=\"border: 1px solid #ccc; padding: 8px;\">5.5, -3.14, 0.0</td>\n",
    "    </tr>\n",
    "    <tr>\n",
    "        <td style=\"border: 1px solid #ccc; padding: 8px;\">Numeric</td>\n",
    "        <td style=\"border: 1px solid #ccc; padding: 8px;\">complex</td>\n",
    "        <td style=\"border: 1px solid #ccc; padding: 8px;\">Complex number, has real and imaginary parts</td>\n",
    "        <td style=\"border: 1px solid #ccc; padding: 8px;\">3+5j, -2j</td>\n",
    "    </tr>\n",
    "    <tr>\n",
    "        <td style=\"border: 1px solid #ccc; padding: 8px;\">Sequence</td>\n",
    "        <td style=\"border: 1px solid #ccc; padding: 8px;\">str</td>\n",
    "        <td style=\"border: 1px solid #ccc; padding: 8px;\">String, a sequence of Unicode characters</td>\n",
    "        <td style=\"border: 1px solid #ccc; padding: 8px;\">\"hello\", 'world'</td>\n",
    "    </tr>   \n",
    "    <tr>\n",
    "        <td style=\"border: 1px solid #ccc; padding: 8px;\">Boolean</td>\n",
    "        <td style=\"border: 1px solid #ccc; padding: 8px;\">bool</td>\n",
    "        <td style=\"border: 1px solid #ccc; padding: 8px;\">Represents True or False values</td>\n",
    "        <td style=\"border: 1px solid #ccc; padding: 8px;\">True, False</td>\n",
    "    </tr>\n",
    "    <tr>\n",
    "        <td style=\"border: 1px solid #ccc; padding: 8px;\">None Type</td>\n",
    "        <td style=\"border: 1px solid #ccc; padding: 8px;\">NoneType</td>\n",
    "        <td style=\"border: 1px solid #ccc; padding: 8px;\">Represents the absence of a value or a null value</td>\n",
    "        <td style=\"border: 1px solid #ccc; padding: 8px;\">None</td>\n",
    "    </tr>\n",
    "</table>\n"
   ]
  },
  {
   "cell_type": "code",
   "execution_count": 1,
   "metadata": {},
   "outputs": [
    {
     "data": {
      "text/plain": [
       "str"
      ]
     },
     "execution_count": 1,
     "metadata": {},
     "output_type": "execute_result"
    }
   ],
   "source": [
    "name = \"Jane\"\n",
    "type(name)"
   ]
  },
  {
   "cell_type": "code",
   "execution_count": 3,
   "metadata": {},
   "outputs": [
    {
     "name": "stdin",
     "output_type": "stream",
     "text": [
      "Enter your name -  George\n"
     ]
    },
    {
     "name": "stdout",
     "output_type": "stream",
     "text": [
      "Welcome George\n"
     ]
    }
   ],
   "source": [
    "name = input(\"Enter your name - \")\n",
    "print(\"Welcome\", name)"
   ]
  },
  {
   "cell_type": "code",
   "execution_count": 5,
   "metadata": {},
   "outputs": [
    {
     "name": "stdin",
     "output_type": "stream",
     "text": [
      "Enter a number -  5\n",
      "Enter a number -  7\n"
     ]
    },
    {
     "data": {
      "text/plain": [
       "12"
      ]
     },
     "execution_count": 5,
     "metadata": {},
     "output_type": "execute_result"
    }
   ],
   "source": [
    "num1 = int(input(\"Enter a number - \"))\n",
    "num2 = int(input(\"Enter a number - \"))\n",
    "num1 + num2"
   ]
  },
  {
   "cell_type": "markdown",
   "metadata": {},
   "source": [
    "#### Python Containers\n",
    "   \n",
    "<table style=\"width: 100%; border-collapse: collapse; border: 1px solid #ccc; text-align: center;\">\n",
    "  <thead>\n",
    "    <tr style=\"background-color: #050A30; color: white;\">\n",
    "      <th style=\"border: 1px solid #ccc; padding: 8px;\">Object</th>\n",
    "      <th style=\"border: 1px solid #ccc; padding: 8px;\">Container Object</th>\n",
    "      <th style=\"border: 1px solid #ccc; padding: 8px;\">Sequence Type</th>\n",
    "      <th style=\"border: 1px solid #ccc; padding: 8px;\">Element Type</th>\n",
    "      <th style=\"border: 1px solid #ccc; padding: 8px;\">Enclosed in</th>\n",
    "      <th style=\"border: 1px solid #ccc; padding: 8px;\">Immutability</th>\n",
    "      <th style=\"border: 1px solid #ccc; padding: 8px;\">Duplicates</th>\n",
    "    </tr>\n",
    "  </thead>\n",
    "  <tbody>\n",
    "    <tr>\n",
    "      <td style=\"border: 1px solid #ccc; padding: 8px;\">str()</td>\n",
    "      <td style=\"border: 1px solid #ccc; padding: 8px;\">No</td>\n",
    "      <td style=\"border: 1px solid #ccc; padding: 8px;\">ordered/indexed</td>\n",
    "      <td style=\"border: 1px solid #ccc; padding: 8px;\">characters</td>\n",
    "      <td style=\"border: 1px solid #ccc; padding: 8px;\">\"\" or ''</td>\n",
    "      <td style=\"border: 1px solid #ccc; padding: 8px;\">Yes</td>\n",
    "      <td style=\"border: 1px solid #ccc; padding: 8px;\">Yes</td>\n",
    "    </tr>\n",
    "    <tr>\n",
    "      <td style=\"border: 1px solid #ccc; padding: 8px;\">tuple()</td>\n",
    "      <td style=\"border: 1px solid #ccc; padding: 8px;\">Yes</td>\n",
    "      <td style=\"border: 1px solid #ccc; padding: 8px;\">ordered/indexed</td>\n",
    "      <td style=\"border: 1px solid #ccc; padding: 8px;\">mixed data (heterogeneous)</td>\n",
    "      <td style=\"border: 1px solid #ccc; padding: 8px;\">()</td>\n",
    "      <td style=\"border: 1px solid #ccc; padding: 8px;\">Yes</td>\n",
    "      <td style=\"border: 1px solid #ccc; padding: 8px;\">Yes</td>\n",
    "    </tr>\n",
    "    <tr>\n",
    "      <td style=\"border: 1px solid #ccc; padding: 8px;\">list()</td>\n",
    "      <td style=\"border: 1px solid #ccc; padding: 8px;\">Yes</td>\n",
    "      <td style=\"border: 1px solid #ccc; padding: 8px;\">ordered/indexed</td>\n",
    "      <td style=\"border: 1px solid #ccc; padding: 8px;\">mixed data (heterogeneous)</td>\n",
    "      <td style=\"border: 1px solid #ccc; padding: 8px;\">[]</td>\n",
    "      <td style=\"border: 1px solid #ccc; padding: 8px;\">No</td>\n",
    "      <td style=\"border: 1px solid #ccc; padding: 8px;\">Yes</td>\n",
    "    </tr>\n",
    "    <tr>\n",
    "      <td style=\"border: 1px solid #ccc; padding: 8px;\">set()</td>\n",
    "      <td style=\"border: 1px solid #ccc; padding: 8px;\">Yes</td>\n",
    "      <td style=\"border: 1px solid #ccc; padding: 8px;\">unordered</td>\n",
    "      <td style=\"border: 1px solid #ccc; padding: 8px;\">heterogeneous (immutable objects)</td>\n",
    "      <td style=\"border: 1px solid #ccc; padding: 8px;\">{}</td>\n",
    "      <td style=\"border: 1px solid #ccc; padding: 8px;\">No</td>\n",
    "      <td style=\"border: 1px solid #ccc; padding: 8px;\">No</td>\n",
    "    </tr>\n",
    "    <tr>\n",
    "      <td style=\"border: 1px solid #ccc; padding: 8px;\">dict()</td>\n",
    "      <td style=\"border: 1px solid #ccc; padding: 8px;\">Yes</td>\n",
    "      <td style=\"border: 1px solid #ccc; padding: 8px;\">unordered</td>\n",
    "      <td style=\"border: 1px solid #ccc; padding: 8px;\">Key - immutable<br>Value - any type</td>\n",
    "      <td style=\"border: 1px solid #ccc; padding: 8px;\">{}</td>\n",
    "      <td style=\"border: 1px solid #ccc; padding: 8px;\">No</td>\n",
    "      <td style=\"border: 1px solid #ccc; padding: 8px;\">Key - No<br>Value - Yes</td>\n",
    "    </tr>\n"
   ]
  },
  {
   "cell_type": "code",
   "execution_count": 6,
   "metadata": {},
   "outputs": [
    {
     "data": {
      "text/plain": [
       "3"
      ]
     },
     "execution_count": 6,
     "metadata": {},
     "output_type": "execute_result"
    }
   ],
   "source": [
    "tup = (1, 2, 3, 4)\n",
    "tup[2]"
   ]
  },
  {
   "cell_type": "code",
   "execution_count": 8,
   "metadata": {},
   "outputs": [
    {
     "data": {
      "text/plain": [
       "[10, 20, 30]"
      ]
     },
     "execution_count": 8,
     "metadata": {},
     "output_type": "execute_result"
    }
   ],
   "source": [
    "lst = [10, 20, 30]\n",
    "lst"
   ]
  },
  {
   "cell_type": "code",
   "execution_count": 13,
   "metadata": {},
   "outputs": [
    {
     "name": "stdout",
     "output_type": "stream",
     "text": [
      "{1, 2, 3, 4}\n"
     ]
    }
   ],
   "source": [
    "s = {1, 2, 3, 4, 2}\n",
    "print(s)"
   ]
  },
  {
   "cell_type": "code",
   "execution_count": 14,
   "metadata": {},
   "outputs": [
    {
     "data": {
      "text/plain": [
       "{1: 'Jane', 2: 'George', 3: 'Rosie'}"
      ]
     },
     "execution_count": 14,
     "metadata": {},
     "output_type": "execute_result"
    }
   ],
   "source": [
    "dct = {1: \"Jane\", 2 : \"George\", 3 : \"Rosie\"}\n",
    "dct"
   ]
  },
  {
   "cell_type": "markdown",
   "metadata": {},
   "source": [
    "###### Ex. WAP to take profit value as input and print if it is profit or loss."
   ]
  },
  {
   "cell_type": "code",
   "execution_count": 17,
   "metadata": {},
   "outputs": [
    {
     "name": "stdin",
     "output_type": "stream",
     "text": [
      "Enter a value -  -20\n"
     ]
    },
    {
     "name": "stdout",
     "output_type": "stream",
     "text": [
      "Loss\n"
     ]
    }
   ],
   "source": [
    "value = int(input(\"Enter a value - \"))\n",
    "if value < 0 :\n",
    "    print(\"Loss\")\n",
    "else :\n",
    "    print(\"Profit\")"
   ]
  },
  {
   "cell_type": "markdown",
   "metadata": {},
   "source": [
    "###### Ex. WAP to generate numbers from 1-20 and print their summation"
   ]
  },
  {
   "cell_type": "code",
   "execution_count": 19,
   "metadata": {},
   "outputs": [
    {
     "data": {
      "text/plain": [
       "210"
      ]
     },
     "execution_count": 19,
     "metadata": {},
     "output_type": "execute_result"
    }
   ],
   "source": [
    "total = 0\n",
    "for i in range(1, 21) :\n",
    "    total += i\n",
    "total"
   ]
  },
  {
   "cell_type": "code",
   "execution_count": 20,
   "metadata": {},
   "outputs": [
    {
     "data": {
      "text/plain": [
       "210"
      ]
     },
     "execution_count": 20,
     "metadata": {},
     "output_type": "execute_result"
    }
   ],
   "source": [
    "sum(range(1, 21)) # Note - pass any numeric sequence to sum()"
   ]
  },
  {
   "cell_type": "markdown",
   "metadata": {},
   "source": [
    "###### Ex. Vowels in  string - \n",
    "\n",
    "1. WAP to extract all the vowels from a word enter by user\n",
    "2. Replace all the vowels with `*` in the string"
   ]
  },
  {
   "cell_type": "code",
   "execution_count": 21,
   "metadata": {},
   "outputs": [
    {
     "name": "stdin",
     "output_type": "stream",
     "text": [
      "Enter a word -  singapore\n"
     ]
    },
    {
     "name": "stdout",
     "output_type": "stream",
     "text": [
      "i\n",
      "a\n",
      "o\n",
      "e\n"
     ]
    }
   ],
   "source": [
    "word = input(\"Enter a word - \").lower()\n",
    "for ch in word :\n",
    "    if ch in \"aeiou\" :\n",
    "        print(ch)"
   ]
  },
  {
   "cell_type": "code",
   "execution_count": 25,
   "metadata": {},
   "outputs": [
    {
     "name": "stdin",
     "output_type": "stream",
     "text": [
      "Enter a word -  singapore\n"
     ]
    },
    {
     "data": {
      "text/plain": [
       "'s*ng*p*r*'"
      ]
     },
     "execution_count": 25,
     "metadata": {},
     "output_type": "execute_result"
    }
   ],
   "source": [
    "word = input(\"Enter a word - \").lower()\n",
    "for ch in \"aeiou\" :\n",
    "    word = word.replace(ch, \"*\")\n",
    "word"
   ]
  },
  {
   "cell_type": "code",
   "execution_count": 32,
   "metadata": {},
   "outputs": [
    {
     "data": {
      "text/plain": [
       "'s8ng1p9r5'"
      ]
     },
     "execution_count": 32,
     "metadata": {},
     "output_type": "execute_result"
    }
   ],
   "source": [
    "word = \"singapore\"\n",
    "obj = str.maketrans(\"aeiou\", \"15896\")\n",
    "word.translate(obj)"
   ]
  },
  {
   "cell_type": "code",
   "execution_count": 34,
   "metadata": {},
   "outputs": [
    {
     "data": {
      "text/plain": [
       "-1200"
      ]
     },
     "execution_count": 34,
     "metadata": {},
     "output_type": "execute_result"
    }
   ],
   "source": [
    "profit = \"($1,200)\"  # -1200\n",
    "obj = str.maketrans(\"(\", \"-\", \"$,)\")\n",
    "int(profit.translate(obj))"
   ]
  },
  {
   "cell_type": "markdown",
   "metadata": {},
   "source": [
    "###### Ex. WAP to create a list of squares of numbers from 1-10"
   ]
  },
  {
   "cell_type": "code",
   "execution_count": 36,
   "metadata": {},
   "outputs": [
    {
     "data": {
      "text/plain": [
       "[1, 4, 9, 16, 25, 36, 49, 64, 81, 100]"
      ]
     },
     "execution_count": 36,
     "metadata": {},
     "output_type": "execute_result"
    }
   ],
   "source": [
    "[i**2 for i in range(1, 11)] # comprehension syntax"
   ]
  },
  {
   "cell_type": "markdown",
   "metadata": {},
   "source": [
    "###### Ex. WAP to sort the given list in desc order - "
   ]
  },
  {
   "cell_type": "code",
   "execution_count": 39,
   "metadata": {},
   "outputs": [
    {
     "data": {
      "text/plain": [
       "['Sam', 'Rosie', 'Jack', 'George']"
      ]
     },
     "execution_count": 39,
     "metadata": {},
     "output_type": "execute_result"
    }
   ],
   "source": [
    "names = [\"Jack\", \"Rosie\", \"George\", \"Sam\"]\n",
    "sorted(names, reverse=True)"
   ]
  },
  {
   "cell_type": "code",
   "execution_count": 41,
   "metadata": {},
   "outputs": [
    {
     "data": {
      "text/plain": [
       "['Sam', 'Jack', 'Rosie', 'George']"
      ]
     },
     "execution_count": 41,
     "metadata": {},
     "output_type": "execute_result"
    }
   ],
   "source": [
    "sorted(names, key = len )"
   ]
  },
  {
   "cell_type": "code",
   "execution_count": 42,
   "metadata": {},
   "outputs": [
    {
     "data": {
      "text/plain": [
       "3"
      ]
     },
     "execution_count": 42,
     "metadata": {},
     "output_type": "execute_result"
    }
   ],
   "source": [
    "len(\"Sam\")"
   ]
  },
  {
   "cell_type": "markdown",
   "metadata": {},
   "source": [
    "<hr><hr>"
   ]
  },
  {
   "cell_type": "markdown",
   "metadata": {
    "id": "xOzcD8n0SL0i"
   },
   "source": [
    "## Basics of NumPy\n",
    "- NumPy - Introduction and Installation\n",
    "- NumPy - Arrays Data Structure ( 1D, 2D, ND arrays)\n",
    "- Creating Arrays\n",
    "- NumPy - Data Types\n",
    "- Array Attributes\n",
    "- Creating Arrays – Alternative Ways\n",
    "- Sub-setting, Slicing and Indexing Arrays\n",
    "- Operations on Arrays\n",
    "- Array Manipulation\n"
   ]
  },
  {
   "cell_type": "markdown",
   "metadata": {
    "id": "LJ7zOREKSL0i"
   },
   "source": [
    "#### NumPy – Introduction and Installation\n",
    "\n",
    "- NumPy stands for ‘Numeric Python’\n",
    "- Used for mathematical and scientific computations\n",
    "- NumPy array is the most widely used object of the NumPy library"
   ]
  },
  {
   "cell_type": "markdown",
   "metadata": {
    "id": "fSezra2YSL0i"
   },
   "source": [
    "#### Installing numpy"
   ]
  },
  {
   "cell_type": "code",
   "execution_count": null,
   "metadata": {
    "id": "fSezra2YSL0i"
   },
   "outputs": [],
   "source": [
    "pip install numpy\n",
    "pip install pandas\n",
    "pip install matplotlib\n",
    "pip install seaborn"
   ]
  },
  {
   "cell_type": "markdown",
   "metadata": {
    "id": "NcOwNJMxSL0j"
   },
   "source": [
    "#### Importing numpy"
   ]
  },
  {
   "cell_type": "code",
   "execution_count": null,
   "metadata": {
    "id": "jbeQqcTmSL0j"
   },
   "outputs": [],
   "source": [
    "import numpy as np\n",
    "import pandas as pd\n",
    "import matplotlib.pyplot as plt\n",
    "import seaborn as sns"
   ]
  },
  {
   "cell_type": "code",
   "execution_count": 45,
   "metadata": {},
   "outputs": [
    {
     "name": "stdout",
     "output_type": "stream",
     "text": [
      "Note: you may need to restart the kernel to use updated packages.\n"
     ]
    },
    {
     "name": "stderr",
     "output_type": "stream",
     "text": [
      "ERROR: Invalid requirement: '#'\n",
      "\n",
      "[notice] A new release of pip is available: 23.2.1 -> 25.1.1\n",
      "[notice] To update, run: python.exe -m pip install --upgrade pip\n"
     ]
    }
   ],
   "source": [
    "pip install numpy  # one time process"
   ]
  },
  {
   "cell_type": "code",
   "execution_count": 43,
   "metadata": {},
   "outputs": [],
   "source": [
    "import numpy as np"
   ]
  },
  {
   "cell_type": "markdown",
   "metadata": {
    "id": "ROKFWY3TSL0j"
   },
   "source": [
    "### Arrays Data Structure\n",
    "\n",
    "An `Array` is combination of homogenous data objects and can be indexed across multiple dimensions\n",
    "\n",
    "#### Arrays are –\n",
    "- ordered sequence/collection of Homogenous data\n",
    "- multidimensional\n",
    "- mutable\n"
   ]
  },
  {
   "cell_type": "markdown",
   "metadata": {
    "id": "vJdSsW-BSL0j"
   },
   "source": [
    "#### Creating Arrays – From list/tuple\n",
    "\n",
    "- `np.array()` is used to create a numpy array from a list\n"
   ]
  },
  {
   "cell_type": "markdown",
   "metadata": {
    "id": "KFMx5EjWSL0j"
   },
   "source": [
    "#### Example on 1-D Array"
   ]
  },
  {
   "cell_type": "code",
   "execution_count": 46,
   "metadata": {
    "id": "oU0mEtv2SL0k"
   },
   "outputs": [
    {
     "data": {
      "text/plain": [
       "array([1, 2, 3, 4, 5])"
      ]
     },
     "execution_count": 46,
     "metadata": {},
     "output_type": "execute_result"
    }
   ],
   "source": [
    "arr = np.array([1, 2, 3, 4, 5])\n",
    "arr"
   ]
  },
  {
   "cell_type": "markdown",
   "metadata": {
    "id": "69nYrHhdSL0k"
   },
   "source": [
    "#### Example on 2-D Array"
   ]
  },
  {
   "cell_type": "code",
   "execution_count": 47,
   "metadata": {
    "id": "bFqhOlvKSL0k"
   },
   "outputs": [
    {
     "data": {
      "text/plain": [
       "array([[ 1,  2,  3,  4,  5],\n",
       "       [ 6,  7,  8,  9, 10]])"
      ]
     },
     "execution_count": 47,
     "metadata": {},
     "output_type": "execute_result"
    }
   ],
   "source": [
    "arr = np.array([[1, 2, 3, 4, 5], [6, 7, 8, 9, 10]])\n",
    "arr"
   ]
  },
  {
   "cell_type": "markdown",
   "metadata": {
    "id": "SyU2wAzwSL0o"
   },
   "source": [
    "### Array Attributes\n",
    "\n",
    "- Attributes are the features/characteristics of an object that describes the object\n",
    "\n",
    "- Some of the attributes of the numpy array are:\n",
    "    - **shape** - Array dimensions\n",
    "    - **size** - Number of array elements\n",
    "    - **dtype** - Data type of array elements\n",
    "    - **ndim** - Number of array dimensions\n",
    "    - **dtype.name** - Name of data type\n",
    "    - **astype** - Convert an array to a different type\n"
   ]
  },
  {
   "cell_type": "code",
   "execution_count": 48,
   "metadata": {
    "id": "s9MiADM0SL0p"
   },
   "outputs": [
    {
     "data": {
      "text/plain": [
       "array([[ 1,  2,  3,  4],\n",
       "       [ 5,  6,  7,  8],\n",
       "       [ 9, 10, 11, 12]])"
      ]
     },
     "execution_count": 48,
     "metadata": {},
     "output_type": "execute_result"
    }
   ],
   "source": [
    "arr = np.array([[1,2,3,4],[5,6,7,8],[9,10,11,12]])\n",
    "arr"
   ]
  },
  {
   "cell_type": "code",
   "execution_count": 51,
   "metadata": {
    "id": "tsamJYYFSL0p"
   },
   "outputs": [
    {
     "data": {
      "text/plain": [
       "(3, 4)"
      ]
     },
     "execution_count": 51,
     "metadata": {},
     "output_type": "execute_result"
    }
   ],
   "source": [
    "arr.shape  # - (row, cols)"
   ]
  },
  {
   "cell_type": "code",
   "execution_count": 52,
   "metadata": {
    "id": "vCvDRDdESL0q"
   },
   "outputs": [
    {
     "data": {
      "text/plain": [
       "12"
      ]
     },
     "execution_count": 52,
     "metadata": {},
     "output_type": "execute_result"
    }
   ],
   "source": [
    "arr.size"
   ]
  },
  {
   "cell_type": "code",
   "execution_count": 53,
   "metadata": {
    "id": "jf04b9bMSL0q"
   },
   "outputs": [
    {
     "data": {
      "text/plain": [
       "2"
      ]
     },
     "execution_count": 53,
     "metadata": {},
     "output_type": "execute_result"
    }
   ],
   "source": [
    "arr.ndim"
   ]
  },
  {
   "cell_type": "code",
   "execution_count": 54,
   "metadata": {
    "id": "T39NHKUfSL0q"
   },
   "outputs": [
    {
     "data": {
      "text/plain": [
       "dtype('int64')"
      ]
     },
     "execution_count": 54,
     "metadata": {},
     "output_type": "execute_result"
    }
   ],
   "source": [
    "arr.dtype"
   ]
  },
  {
   "cell_type": "code",
   "execution_count": 55,
   "metadata": {
    "id": "2_Lpf6lISL0r"
   },
   "outputs": [
    {
     "data": {
      "text/plain": [
       "array([[ 1.,  2.,  3.,  4.],\n",
       "       [ 5.,  6.,  7.,  8.],\n",
       "       [ 9., 10., 11., 12.]])"
      ]
     },
     "execution_count": 55,
     "metadata": {},
     "output_type": "execute_result"
    }
   ],
   "source": [
    "arr.astype(float)"
   ]
  },
  {
   "cell_type": "markdown",
   "metadata": {
    "id": "JF39DOA2SL0r"
   },
   "source": [
    "### Indexing, Slicing and Boolen Indexing"
   ]
  },
  {
   "cell_type": "code",
   "execution_count": 56,
   "metadata": {
    "id": "w0wK9_kOSL0r"
   },
   "outputs": [
    {
     "data": {
      "text/plain": [
       "array([37, 40, 28, 45, 31, 16, 12, 19, 36, 30], dtype=int32)"
      ]
     },
     "execution_count": 56,
     "metadata": {},
     "output_type": "execute_result"
    }
   ],
   "source": [
    "arr = np.random.randint(5, 50, size = 10)\n",
    "arr"
   ]
  },
  {
   "cell_type": "markdown",
   "metadata": {
    "id": "yODYAc7iSL0u"
   },
   "source": [
    "#### 1-D Arrays"
   ]
  },
  {
   "cell_type": "markdown",
   "metadata": {
    "id": "dAJTxG88SL0u"
   },
   "source": [
    "###### Ex. Extract first 3 elements"
   ]
  },
  {
   "cell_type": "code",
   "execution_count": 57,
   "metadata": {
    "id": "DutZE2c9SL0v"
   },
   "outputs": [
    {
     "data": {
      "text/plain": [
       "array([37, 40, 28], dtype=int32)"
      ]
     },
     "execution_count": 57,
     "metadata": {},
     "output_type": "execute_result"
    }
   ],
   "source": [
    "arr[0:3]"
   ]
  },
  {
   "cell_type": "markdown",
   "metadata": {
    "id": "Uhah9JyBSL0v"
   },
   "source": [
    "###### Ex. Extract last 5 elements"
   ]
  },
  {
   "cell_type": "code",
   "execution_count": 58,
   "metadata": {
    "id": "1PNWHks3SL0v"
   },
   "outputs": [
    {
     "data": {
      "text/plain": [
       "array([16, 12, 19, 36, 30], dtype=int32)"
      ]
     },
     "execution_count": 58,
     "metadata": {},
     "output_type": "execute_result"
    }
   ],
   "source": [
    "arr[-5 : ]"
   ]
  },
  {
   "cell_type": "markdown",
   "metadata": {},
   "source": [
    "###### Ex. Extract element at position 2"
   ]
  },
  {
   "cell_type": "code",
   "execution_count": 59,
   "metadata": {},
   "outputs": [
    {
     "data": {
      "text/plain": [
       "np.int32(28)"
      ]
     },
     "execution_count": 59,
     "metadata": {},
     "output_type": "execute_result"
    }
   ],
   "source": [
    "arr[2]  # indexing"
   ]
  },
  {
   "cell_type": "markdown",
   "metadata": {
    "id": "nGjuAzZHSL0v"
   },
   "source": [
    "###### Ex. Extract elements at index position 2, 5, 9."
   ]
  },
  {
   "cell_type": "code",
   "execution_count": 60,
   "metadata": {
    "id": "lDjyIKdJSL0v"
   },
   "outputs": [
    {
     "data": {
      "text/plain": [
       "array([28, 16, 30], dtype=int32)"
      ]
     },
     "execution_count": 60,
     "metadata": {},
     "output_type": "execute_result"
    }
   ],
   "source": [
    "arr[[2, 5, 9]]"
   ]
  },
  {
   "cell_type": "markdown",
   "metadata": {
    "id": "IuRLmBMNSL0w"
   },
   "source": [
    "###### Ex. Extract elements less than 20"
   ]
  },
  {
   "cell_type": "code",
   "execution_count": 64,
   "metadata": {},
   "outputs": [
    {
     "data": {
      "text/plain": [
       "array([False, False, False, False, False,  True,  True,  True, False,\n",
       "       False])"
      ]
     },
     "execution_count": 64,
     "metadata": {},
     "output_type": "execute_result"
    }
   ],
   "source": [
    "arr < 20  # Filtering - generates a bool array"
   ]
  },
  {
   "cell_type": "code",
   "execution_count": 63,
   "metadata": {},
   "outputs": [
    {
     "data": {
      "text/plain": [
       "array([16, 12, 19], dtype=int32)"
      ]
     },
     "execution_count": 63,
     "metadata": {},
     "output_type": "execute_result"
    }
   ],
   "source": [
    "arr[arr < 20]"
   ]
  },
  {
   "cell_type": "markdown",
   "metadata": {
    "id": "mLixUpi0SL0w"
   },
   "source": [
    "### 2-D Arrays"
   ]
  },
  {
   "cell_type": "code",
   "execution_count": 65,
   "metadata": {
    "id": "HtpgnYXSSL0w"
   },
   "outputs": [
    {
     "data": {
      "text/plain": [
       "array([[39, 29, 32, 19],\n",
       "       [27, 33, 21, 47],\n",
       "       [29, 32,  8, 45],\n",
       "       [35, 31, 19,  9],\n",
       "       [39, 15, 35, 45],\n",
       "       [ 6, 34, 22, 23]], dtype=int32)"
      ]
     },
     "execution_count": 65,
     "metadata": {},
     "output_type": "execute_result"
    }
   ],
   "source": [
    "arr = np.random.randint(5, 50, size = (6,4))\n",
    "arr"
   ]
  },
  {
   "cell_type": "markdown",
   "metadata": {
    "id": "m_vUEuzbSL0x"
   },
   "source": [
    "###### Ex. Extract first 3 rows"
   ]
  },
  {
   "cell_type": "code",
   "execution_count": 66,
   "metadata": {
    "id": "9fOmVOtdSL0x"
   },
   "outputs": [
    {
     "data": {
      "text/plain": [
       "array([[39, 29, 32, 19],\n",
       "       [27, 33, 21, 47],\n",
       "       [29, 32,  8, 45]], dtype=int32)"
      ]
     },
     "execution_count": 66,
     "metadata": {},
     "output_type": "execute_result"
    }
   ],
   "source": [
    "arr[0:3]"
   ]
  },
  {
   "cell_type": "markdown",
   "metadata": {
    "id": "Ea2Yy2HDSL0x"
   },
   "source": [
    "###### Ex. Extract last 2 rows"
   ]
  },
  {
   "cell_type": "code",
   "execution_count": 67,
   "metadata": {
    "id": "Xs_Cwn-ZSL0x"
   },
   "outputs": [
    {
     "data": {
      "text/plain": [
       "array([[39, 15, 35, 45],\n",
       "       [ 6, 34, 22, 23]], dtype=int32)"
      ]
     },
     "execution_count": 67,
     "metadata": {},
     "output_type": "execute_result"
    }
   ],
   "source": [
    "arr[-2 :]"
   ]
  },
  {
   "cell_type": "markdown",
   "metadata": {
    "id": "lgo1AB3ESL0x"
   },
   "source": [
    "###### Ex. Extract column at index 1"
   ]
  },
  {
   "cell_type": "code",
   "execution_count": 68,
   "metadata": {
    "id": "p8au-IOpSL0y"
   },
   "outputs": [
    {
     "data": {
      "text/plain": [
       "array([29, 33, 32, 31, 15, 34], dtype=int32)"
      ]
     },
     "execution_count": 68,
     "metadata": {},
     "output_type": "execute_result"
    }
   ],
   "source": [
    "arr[ : , 1]  # returns 1D array"
   ]
  },
  {
   "cell_type": "markdown",
   "metadata": {
    "id": "rFF5yf_VSL0y"
   },
   "source": [
    "###### Ex. Extract row 2 and 3 and column 2 and 3 (index-wise)"
   ]
  },
  {
   "cell_type": "code",
   "execution_count": 69,
   "metadata": {
    "id": "CsnE4pTDSL0y"
   },
   "outputs": [
    {
     "data": {
      "text/plain": [
       "array([[ 8, 45],\n",
       "       [19,  9]], dtype=int32)"
      ]
     },
     "execution_count": 69,
     "metadata": {},
     "output_type": "execute_result"
    }
   ],
   "source": [
    "arr[2:4, 2:4]"
   ]
  },
  {
   "cell_type": "markdown",
   "metadata": {
    "id": "zKiuKqHrSL0z"
   },
   "source": [
    "###### Ex. Extract values less than 25"
   ]
  },
  {
   "cell_type": "code",
   "execution_count": 70,
   "metadata": {
    "id": "9E1oeOkISL0z"
   },
   "outputs": [
    {
     "data": {
      "text/plain": [
       "array([19, 21,  8, 19,  9, 15,  6, 22, 23], dtype=int32)"
      ]
     },
     "execution_count": 70,
     "metadata": {},
     "output_type": "execute_result"
    }
   ],
   "source": [
    "arr[arr < 25]"
   ]
  },
  {
   "cell_type": "markdown",
   "metadata": {
    "id": "sXaOomI2SL0z"
   },
   "source": [
    "###### Ex. Identify largest value. Extract values less than half of largest values"
   ]
  },
  {
   "cell_type": "code",
   "execution_count": 74,
   "metadata": {
    "id": "XXpP7USOSL01"
   },
   "outputs": [
    {
     "data": {
      "text/plain": [
       "array([19, 21,  8, 19,  9, 15,  6, 22, 23], dtype=int32)"
      ]
     },
     "execution_count": 74,
     "metadata": {},
     "output_type": "execute_result"
    }
   ],
   "source": [
    "arr[arr < np.max(arr)/2]"
   ]
  },
  {
   "cell_type": "markdown",
   "metadata": {
    "id": "fL2XoRrBSL07"
   },
   "source": [
    "### Array Operations"
   ]
  },
  {
   "cell_type": "markdown",
   "metadata": {
    "id": "g8EECkQKSL08"
   },
   "source": [
    "#### Arithmetic operations on Arrays -\n",
    " - Addition, Substraction, Multiplication, Division, etc.\n",
    " - Operations on array and a scalar value\n",
    " - Operations between two arrays\n",
    " - Matrix Operations - Multiplication(np.dot()), Transpose(np.transpose())\n"
   ]
  },
  {
   "cell_type": "markdown",
   "metadata": {
    "id": "R4EU3ag3SL09"
   },
   "source": [
    "#### Array and Scalar"
   ]
  },
  {
   "cell_type": "code",
   "execution_count": 75,
   "metadata": {
    "id": "1iA_t7hFSL09"
   },
   "outputs": [
    {
     "data": {
      "text/plain": [
       "array([1, 5, 9, 4, 3], dtype=int32)"
      ]
     },
     "execution_count": 75,
     "metadata": {},
     "output_type": "execute_result"
    }
   ],
   "source": [
    "arr1 = np.random.randint(1,10,size = 5)\n",
    "arr1"
   ]
  },
  {
   "cell_type": "code",
   "execution_count": 76,
   "metadata": {
    "id": "2qrteupNSL09"
   },
   "outputs": [
    {
     "data": {
      "text/plain": [
       "array([ 6, 10, 14,  9,  8], dtype=int32)"
      ]
     },
     "execution_count": 76,
     "metadata": {},
     "output_type": "execute_result"
    }
   ],
   "source": [
    "arr1 + 5 # Addition"
   ]
  },
  {
   "cell_type": "code",
   "execution_count": 77,
   "metadata": {
    "id": "7m2YLJDwSL09"
   },
   "outputs": [
    {
     "data": {
      "text/plain": [
       "array([-4,  0,  4, -1, -2], dtype=int32)"
      ]
     },
     "execution_count": 77,
     "metadata": {},
     "output_type": "execute_result"
    }
   ],
   "source": [
    "arr1 - 5 # Substraction"
   ]
  },
  {
   "cell_type": "code",
   "execution_count": 78,
   "metadata": {
    "id": "WZdyCcBaSL0-"
   },
   "outputs": [
    {
     "data": {
      "text/plain": [
       "array([ 5, 25, 45, 20, 15], dtype=int32)"
      ]
     },
     "execution_count": 78,
     "metadata": {},
     "output_type": "execute_result"
    }
   ],
   "source": [
    "arr1 * 5 # Multiplication"
   ]
  },
  {
   "cell_type": "code",
   "execution_count": 79,
   "metadata": {
    "id": "mAY1w9a4SL0-"
   },
   "outputs": [
    {
     "data": {
      "text/plain": [
       "array([0.2, 1. , 1.8, 0.8, 0.6])"
      ]
     },
     "execution_count": 79,
     "metadata": {},
     "output_type": "execute_result"
    }
   ],
   "source": [
    "arr1 / 5 # Division"
   ]
  },
  {
   "cell_type": "code",
   "execution_count": 80,
   "metadata": {
    "id": "GpOMqLWaSL0-"
   },
   "outputs": [
    {
     "data": {
      "text/plain": [
       "array([0, 1, 1, 0, 0], dtype=int32)"
      ]
     },
     "execution_count": 80,
     "metadata": {},
     "output_type": "execute_result"
    }
   ],
   "source": [
    "arr1 // 5 # Floor Division"
   ]
  },
  {
   "cell_type": "code",
   "execution_count": 81,
   "metadata": {
    "id": "wFbDqcnxSL0-"
   },
   "outputs": [
    {
     "data": {
      "text/plain": [
       "array([1, 0, 4, 4, 3], dtype=int32)"
      ]
     },
     "execution_count": 81,
     "metadata": {},
     "output_type": "execute_result"
    }
   ],
   "source": [
    "arr1 % 5 # Modulus"
   ]
  },
  {
   "cell_type": "markdown",
   "metadata": {
    "id": "sRLJ1oBhSL0-"
   },
   "source": [
    "#### Two Arrays"
   ]
  },
  {
   "cell_type": "code",
   "execution_count": 82,
   "metadata": {
    "id": "APmPJ9P4SL0_"
   },
   "outputs": [
    {
     "data": {
      "text/plain": [
       "array([1, 7, 2, 1, 6], dtype=int32)"
      ]
     },
     "execution_count": 82,
     "metadata": {},
     "output_type": "execute_result"
    }
   ],
   "source": [
    "arr1 = np.random.randint(1,10,size = 5)\n",
    "arr1"
   ]
  },
  {
   "cell_type": "code",
   "execution_count": 83,
   "metadata": {
    "id": "lqqwcLVNSL1A"
   },
   "outputs": [
    {
     "data": {
      "text/plain": [
       "array([6, 2, 3, 8, 5], dtype=int32)"
      ]
     },
     "execution_count": 83,
     "metadata": {},
     "output_type": "execute_result"
    }
   ],
   "source": [
    "arr2 = np.random.randint(1,10,size = 5)\n",
    "arr2"
   ]
  },
  {
   "cell_type": "code",
   "execution_count": 84,
   "metadata": {
    "id": "Icrg6invSL1A"
   },
   "outputs": [
    {
     "data": {
      "text/plain": [
       "array([ 7,  9,  5,  9, 11], dtype=int32)"
      ]
     },
     "execution_count": 84,
     "metadata": {},
     "output_type": "execute_result"
    }
   ],
   "source": [
    "arr1 + arr2 # Addition"
   ]
  },
  {
   "cell_type": "code",
   "execution_count": 85,
   "metadata": {
    "id": "gCG2nLndSL1B"
   },
   "outputs": [
    {
     "data": {
      "text/plain": [
       "array([-5,  5, -1, -7,  1], dtype=int32)"
      ]
     },
     "execution_count": 85,
     "metadata": {},
     "output_type": "execute_result"
    }
   ],
   "source": [
    "arr1 - arr2 # Substraction"
   ]
  },
  {
   "cell_type": "code",
   "execution_count": 86,
   "metadata": {
    "id": "uqcUDPGjSL1C"
   },
   "outputs": [
    {
     "data": {
      "text/plain": [
       "array([ 6, 14,  6,  8, 30], dtype=int32)"
      ]
     },
     "execution_count": 86,
     "metadata": {},
     "output_type": "execute_result"
    }
   ],
   "source": [
    "arr1 * arr2 # Multiplication"
   ]
  },
  {
   "cell_type": "code",
   "execution_count": 87,
   "metadata": {
    "id": "eGRzXiMUSL1C"
   },
   "outputs": [
    {
     "data": {
      "text/plain": [
       "array([0.16666667, 3.5       , 0.66666667, 0.125     , 1.2       ])"
      ]
     },
     "execution_count": 87,
     "metadata": {},
     "output_type": "execute_result"
    }
   ],
   "source": [
    "arr1 / arr2 # Division"
   ]
  },
  {
   "cell_type": "code",
   "execution_count": 88,
   "metadata": {
    "id": "xv1ue7W3SL1D"
   },
   "outputs": [
    {
     "data": {
      "text/plain": [
       "array([0, 3, 0, 0, 1], dtype=int32)"
      ]
     },
     "execution_count": 88,
     "metadata": {},
     "output_type": "execute_result"
    }
   ],
   "source": [
    "arr1 // arr2 # Floor Division"
   ]
  },
  {
   "cell_type": "code",
   "execution_count": 89,
   "metadata": {
    "id": "QEVSfPoHSL1D"
   },
   "outputs": [
    {
     "data": {
      "text/plain": [
       "array([1, 1, 2, 1, 1], dtype=int32)"
      ]
     },
     "execution_count": 89,
     "metadata": {},
     "output_type": "execute_result"
    }
   ],
   "source": [
    "arr1 % arr2 # Modulus"
   ]
  },
  {
   "cell_type": "markdown",
   "metadata": {
    "id": "I7MMbiDUSL1D"
   },
   "source": [
    "#### Relational operations on Arrays -\n",
    " - ==, !=, <, >, <=, >=\n",
    " - Operations on array and a scalar value\n",
    " - Operations between two arrays"
   ]
  },
  {
   "cell_type": "markdown",
   "metadata": {
    "id": "risXX05xSL1E"
   },
   "source": [
    "#### Array and Scalar"
   ]
  },
  {
   "cell_type": "code",
   "execution_count": 90,
   "metadata": {
    "id": "RG6UknSxSL1E"
   },
   "outputs": [
    {
     "data": {
      "text/plain": [
       "array([4, 1, 4, 1, 6], dtype=int32)"
      ]
     },
     "execution_count": 90,
     "metadata": {},
     "output_type": "execute_result"
    }
   ],
   "source": [
    "arr1 = np.random.randint(1,10,size = 5)\n",
    "arr1"
   ]
  },
  {
   "cell_type": "code",
   "execution_count": 91,
   "metadata": {
    "id": "CMv1sBdxSL1E"
   },
   "outputs": [
    {
     "data": {
      "text/plain": [
       "array([False, False, False, False, False])"
      ]
     },
     "execution_count": 91,
     "metadata": {},
     "output_type": "execute_result"
    }
   ],
   "source": [
    "arr1 == 5"
   ]
  },
  {
   "cell_type": "code",
   "execution_count": 92,
   "metadata": {
    "id": "MFce5HMESL1M"
   },
   "outputs": [
    {
     "data": {
      "text/plain": [
       "array([ True,  True,  True,  True,  True])"
      ]
     },
     "execution_count": 92,
     "metadata": {},
     "output_type": "execute_result"
    }
   ],
   "source": [
    "arr1 != 5"
   ]
  },
  {
   "cell_type": "code",
   "execution_count": 93,
   "metadata": {
    "id": "r884EP-vSL1M"
   },
   "outputs": [
    {
     "data": {
      "text/plain": [
       "array([ True,  True,  True,  True, False])"
      ]
     },
     "execution_count": 93,
     "metadata": {},
     "output_type": "execute_result"
    }
   ],
   "source": [
    "arr1 < 5"
   ]
  },
  {
   "cell_type": "code",
   "execution_count": 94,
   "metadata": {
    "id": "zP_0B3XXSL1M"
   },
   "outputs": [
    {
     "data": {
      "text/plain": [
       "array([False, False, False, False,  True])"
      ]
     },
     "execution_count": 94,
     "metadata": {},
     "output_type": "execute_result"
    }
   ],
   "source": [
    "arr1 > 5"
   ]
  },
  {
   "cell_type": "code",
   "execution_count": 95,
   "metadata": {
    "id": "UuR2SeMaSL1M"
   },
   "outputs": [
    {
     "data": {
      "text/plain": [
       "array([ True,  True,  True,  True, False])"
      ]
     },
     "execution_count": 95,
     "metadata": {},
     "output_type": "execute_result"
    }
   ],
   "source": [
    "arr1 <= 5"
   ]
  },
  {
   "cell_type": "code",
   "execution_count": 96,
   "metadata": {
    "id": "2CCAoZQRSL1M"
   },
   "outputs": [
    {
     "data": {
      "text/plain": [
       "array([False, False, False, False,  True])"
      ]
     },
     "execution_count": 96,
     "metadata": {},
     "output_type": "execute_result"
    }
   ],
   "source": [
    "arr1 >= 5"
   ]
  },
  {
   "cell_type": "markdown",
   "metadata": {
    "id": "w3NB0RylSL1N"
   },
   "source": [
    "#### Two Arrays"
   ]
  },
  {
   "cell_type": "code",
   "execution_count": 97,
   "metadata": {
    "id": "er1RGQtbSL1N"
   },
   "outputs": [
    {
     "data": {
      "text/plain": [
       "array([9, 1, 3, 6, 1], dtype=int32)"
      ]
     },
     "execution_count": 97,
     "metadata": {},
     "output_type": "execute_result"
    }
   ],
   "source": [
    "arr1 = np.random.randint(1,10,size = 5)\n",
    "arr1"
   ]
  },
  {
   "cell_type": "code",
   "execution_count": 98,
   "metadata": {
    "id": "e1IoaYKPSL1N"
   },
   "outputs": [
    {
     "data": {
      "text/plain": [
       "array([5, 7, 1, 6, 2], dtype=int32)"
      ]
     },
     "execution_count": 98,
     "metadata": {},
     "output_type": "execute_result"
    }
   ],
   "source": [
    "arr2 = np.random.randint(1,10,size = 5)\n",
    "arr2"
   ]
  },
  {
   "cell_type": "code",
   "execution_count": 99,
   "metadata": {
    "id": "BxafJwk4SL1O"
   },
   "outputs": [
    {
     "data": {
      "text/plain": [
       "array([False, False, False,  True, False])"
      ]
     },
     "execution_count": 99,
     "metadata": {},
     "output_type": "execute_result"
    }
   ],
   "source": [
    "arr1 == arr2"
   ]
  },
  {
   "cell_type": "code",
   "execution_count": 100,
   "metadata": {
    "id": "tFH3rjbGSL1O"
   },
   "outputs": [
    {
     "data": {
      "text/plain": [
       "array([ True,  True,  True, False,  True])"
      ]
     },
     "execution_count": 100,
     "metadata": {},
     "output_type": "execute_result"
    }
   ],
   "source": [
    "arr1 != arr2"
   ]
  },
  {
   "cell_type": "code",
   "execution_count": 101,
   "metadata": {
    "id": "20PlGh-3SL1O"
   },
   "outputs": [
    {
     "data": {
      "text/plain": [
       "array([False,  True, False, False,  True])"
      ]
     },
     "execution_count": 101,
     "metadata": {},
     "output_type": "execute_result"
    }
   ],
   "source": [
    "arr1 < arr2"
   ]
  },
  {
   "cell_type": "code",
   "execution_count": 102,
   "metadata": {
    "id": "w_286kkxSL1O"
   },
   "outputs": [
    {
     "data": {
      "text/plain": [
       "array([ True, False,  True, False, False])"
      ]
     },
     "execution_count": 102,
     "metadata": {},
     "output_type": "execute_result"
    }
   ],
   "source": [
    "arr1 > arr2"
   ]
  },
  {
   "cell_type": "code",
   "execution_count": 103,
   "metadata": {
    "id": "GYgNtmYoSL1O"
   },
   "outputs": [
    {
     "data": {
      "text/plain": [
       "array([False,  True, False,  True,  True])"
      ]
     },
     "execution_count": 103,
     "metadata": {},
     "output_type": "execute_result"
    }
   ],
   "source": [
    "arr1 <= arr2"
   ]
  },
  {
   "cell_type": "code",
   "execution_count": 104,
   "metadata": {
    "id": "1VHrwXl1SL1O"
   },
   "outputs": [
    {
     "data": {
      "text/plain": [
       "array([ True, False,  True,  True, False])"
      ]
     },
     "execution_count": 104,
     "metadata": {},
     "output_type": "execute_result"
    }
   ],
   "source": [
    "arr1 >= arr2"
   ]
  },
  {
   "cell_type": "markdown",
   "metadata": {
    "id": "Y55RGzk3SL1P"
   },
   "source": [
    "#### Logical operations on Arrays -\n",
    " - np.logical_or()\n",
    " - np.logical_and()\n",
    " - np.logical_not()\n",
    " - np.logical_xor()"
   ]
  },
  {
   "cell_type": "code",
   "execution_count": 105,
   "metadata": {
    "id": "r6tvDGICSL1P"
   },
   "outputs": [
    {
     "data": {
      "text/plain": [
       "array([5, 2, 6, 4, 6], dtype=int32)"
      ]
     },
     "execution_count": 105,
     "metadata": {},
     "output_type": "execute_result"
    }
   ],
   "source": [
    "arr1 = np.random.randint(1,10,size = 5)\n",
    "arr1"
   ]
  },
  {
   "cell_type": "code",
   "execution_count": 106,
   "metadata": {
    "id": "8-nIMvyRSL1P"
   },
   "outputs": [
    {
     "data": {
      "text/plain": [
       "array([5, 5, 7, 9, 9], dtype=int32)"
      ]
     },
     "execution_count": 106,
     "metadata": {},
     "output_type": "execute_result"
    }
   ],
   "source": [
    "arr2 = np.random.randint(1,10,size = 5)\n",
    "arr2"
   ]
  },
  {
   "cell_type": "code",
   "execution_count": 107,
   "metadata": {
    "id": "BLIWNGK_SL1Q"
   },
   "outputs": [
    {
     "data": {
      "text/plain": [
       "array([False, False,  True, False,  True])"
      ]
     },
     "execution_count": 107,
     "metadata": {},
     "output_type": "execute_result"
    }
   ],
   "source": [
    "np.logical_and(arr1 > 5, arr2 > 5)"
   ]
  },
  {
   "cell_type": "code",
   "execution_count": 108,
   "metadata": {
    "id": "K_NhIUWpSL1Q"
   },
   "outputs": [
    {
     "data": {
      "text/plain": [
       "array([False, False,  True,  True,  True])"
      ]
     },
     "execution_count": 108,
     "metadata": {},
     "output_type": "execute_result"
    }
   ],
   "source": [
    "np.logical_or(arr1 > 5, arr2 > 5)"
   ]
  },
  {
   "cell_type": "code",
   "execution_count": 109,
   "metadata": {
    "id": "wrdhpg4xSL1Q"
   },
   "outputs": [
    {
     "data": {
      "text/plain": [
       "array([ True,  True, False,  True, False])"
      ]
     },
     "execution_count": 109,
     "metadata": {},
     "output_type": "execute_result"
    }
   ],
   "source": [
    "np.logical_not(arr1 > 5)"
   ]
  },
  {
   "cell_type": "code",
   "execution_count": 110,
   "metadata": {
    "id": "l7EPY8FISL1Q"
   },
   "outputs": [
    {
     "data": {
      "text/plain": [
       "array([False, False, False,  True, False])"
      ]
     },
     "execution_count": 110,
     "metadata": {},
     "output_type": "execute_result"
    }
   ],
   "source": [
    "np.logical_xor(arr1 > 5, arr2 > 5)"
   ]
  },
  {
   "cell_type": "markdown",
   "metadata": {
    "id": "kAETb-iDSL1Q"
   },
   "source": [
    "#### Set Operations on Arrays\n",
    "\n",
    "Applicable to 1-D Ararys only\n",
    "\n",
    "- np.unique() - Find the unique elements of an array.\n",
    "- np.in1d() - Test whether each element of a 1-D array is also present in a second array.\n",
    "- np.intersect1d() - Find the intersection of two arrays.\n",
    "- np.setdiff1d() - Find the set difference of two arrays.\n",
    "- np.union1d() - Find the union of two arrays."
   ]
  },
  {
   "cell_type": "code",
   "execution_count": 111,
   "metadata": {
    "id": "30d56VmZSL1Q"
   },
   "outputs": [
    {
     "data": {
      "text/plain": [
       "array([4, 9, 7, 6, 2, 7, 9, 2, 3, 8], dtype=int32)"
      ]
     },
     "execution_count": 111,
     "metadata": {},
     "output_type": "execute_result"
    }
   ],
   "source": [
    "arr1 = np.random.randint(1, 10, size = 10)\n",
    "arr1"
   ]
  },
  {
   "cell_type": "code",
   "execution_count": 112,
   "metadata": {},
   "outputs": [
    {
     "data": {
      "text/plain": [
       "array([2, 3, 4, 6, 7, 8, 9], dtype=int32)"
      ]
     },
     "execution_count": 112,
     "metadata": {},
     "output_type": "execute_result"
    }
   ],
   "source": [
    "np.unique(arr1)"
   ]
  },
  {
   "cell_type": "code",
   "execution_count": 113,
   "metadata": {},
   "outputs": [
    {
     "data": {
      "text/plain": [
       "(array([2, 3, 4, 6, 7, 8, 9], dtype=int32),\n",
       " array([4, 8, 0, 3, 2, 9, 1]),\n",
       " array([2, 1, 1, 1, 2, 1, 2]))"
      ]
     },
     "execution_count": 113,
     "metadata": {},
     "output_type": "execute_result"
    }
   ],
   "source": [
    "np.unique(arr1, return_index= True, return_counts=True)"
   ]
  },
  {
   "cell_type": "code",
   "execution_count": 114,
   "metadata": {},
   "outputs": [
    {
     "data": {
      "text/plain": [
       "array([2, 2, 3, 2, 3, 3, 2, 4, 2, 3], dtype=int32)"
      ]
     },
     "execution_count": 114,
     "metadata": {},
     "output_type": "execute_result"
    }
   ],
   "source": [
    "arr2 = np.random.randint(1, 5, size = 10)\n",
    "arr2"
   ]
  },
  {
   "cell_type": "code",
   "execution_count": 115,
   "metadata": {},
   "outputs": [
    {
     "name": "stderr",
     "output_type": "stream",
     "text": [
      "C:\\Users\\vaide\\AppData\\Local\\Temp\\ipykernel_516\\2696172370.py:1: DeprecationWarning: `in1d` is deprecated. Use `np.isin` instead.\n",
      "  np.in1d(arr1, arr2)  # depricated in 3.12 onwards\n"
     ]
    },
    {
     "data": {
      "text/plain": [
       "array([ True, False, False, False,  True, False, False,  True,  True,\n",
       "       False])"
      ]
     },
     "execution_count": 115,
     "metadata": {},
     "output_type": "execute_result"
    }
   ],
   "source": [
    "np.in1d(arr1, arr2)  # depricated in 3.12 onwards"
   ]
  },
  {
   "cell_type": "code",
   "execution_count": 116,
   "metadata": {},
   "outputs": [
    {
     "data": {
      "text/plain": [
       "array([ True, False, False, False,  True, False, False,  True,  True,\n",
       "       False])"
      ]
     },
     "execution_count": 116,
     "metadata": {},
     "output_type": "execute_result"
    }
   ],
   "source": [
    "np.isin(arr1, arr2)  # alternate for in1d()"
   ]
  },
  {
   "cell_type": "code",
   "execution_count": 117,
   "metadata": {},
   "outputs": [
    {
     "data": {
      "text/plain": [
       "array([2, 3, 4, 6, 7, 8, 9], dtype=int32)"
      ]
     },
     "execution_count": 117,
     "metadata": {},
     "output_type": "execute_result"
    }
   ],
   "source": [
    "np.union1d(arr1, arr2)"
   ]
  },
  {
   "cell_type": "code",
   "execution_count": 118,
   "metadata": {},
   "outputs": [
    {
     "data": {
      "text/plain": [
       "array([2, 3, 4], dtype=int32)"
      ]
     },
     "execution_count": 118,
     "metadata": {},
     "output_type": "execute_result"
    }
   ],
   "source": [
    "np.intersect1d(arr1, arr2)"
   ]
  },
  {
   "cell_type": "markdown",
   "metadata": {},
   "source": [
    "###### Ex. WAP to apply 7% service tax to all the values in the array"
   ]
  },
  {
   "cell_type": "code",
   "execution_count": 119,
   "metadata": {},
   "outputs": [
    {
     "data": {
      "text/plain": [
       "array([214. , 428. , 321. , 267.5, 588.5])"
      ]
     },
     "execution_count": 119,
     "metadata": {},
     "output_type": "execute_result"
    }
   ],
   "source": [
    "sales = np.array([200, 400, 300, 250, 550])\n",
    "sales * 1.07"
   ]
  },
  {
   "cell_type": "markdown",
   "metadata": {
    "id": "GtcdxsPeSL1R"
   },
   "source": [
    "### Array Functions/Methods\n",
    "\n",
    "- np.all(), np.any()\n",
    "- arr.sum()\n",
    "- arr.min(), arr.max(), arr.argmin(), arr.agrmax()\n",
    "- np.round()\n",
    "- np.mean(), np.median(), np.average(), np.percentile()\n"
   ]
  },
  {
   "cell_type": "code",
   "execution_count": 120,
   "metadata": {},
   "outputs": [
    {
     "data": {
      "text/plain": [
       "array([4, 8, 6, 4, 9, 7, 8, 7, 4, 1], dtype=int32)"
      ]
     },
     "execution_count": 120,
     "metadata": {},
     "output_type": "execute_result"
    }
   ],
   "source": [
    "arr1 = np.random.randint(1, 10, size = 10)\n",
    "arr1"
   ]
  },
  {
   "cell_type": "markdown",
   "metadata": {},
   "source": [
    "###### Ex. WAP to check if all the elements in arr are > 5"
   ]
  },
  {
   "cell_type": "code",
   "execution_count": 122,
   "metadata": {},
   "outputs": [
    {
     "data": {
      "text/plain": [
       "np.False_"
      ]
     },
     "execution_count": 122,
     "metadata": {},
     "output_type": "execute_result"
    }
   ],
   "source": [
    "np.all(arr1 > 5)"
   ]
  },
  {
   "cell_type": "code",
   "execution_count": 123,
   "metadata": {},
   "outputs": [
    {
     "data": {
      "text/plain": [
       "np.int32(1)"
      ]
     },
     "execution_count": 123,
     "metadata": {},
     "output_type": "execute_result"
    }
   ],
   "source": [
    "arr1.min()"
   ]
  },
  {
   "cell_type": "code",
   "execution_count": 124,
   "metadata": {},
   "outputs": [
    {
     "data": {
      "text/plain": [
       "np.int64(9)"
      ]
     },
     "execution_count": 124,
     "metadata": {},
     "output_type": "execute_result"
    }
   ],
   "source": [
    "arr1.argmin()"
   ]
  },
  {
   "cell_type": "markdown",
   "metadata": {
    "id": "0fMLMsHCSL1U"
   },
   "source": [
    "### Array Manipulations\n",
    "\n",
    "- **Changing Shape** – np.reshape()\n",
    "- **Adding/Removing Elements** – np.append(), np.insert(), np.delete()\n",
    "- **Splitting Arrays** – np.hsplit(), np.vsplit(), arr_obj.flatten()\n",
    "- **Sorting Arrays** - arr_obj.sort(), arr_obj.argsort()"
   ]
  },
  {
   "cell_type": "code",
   "execution_count": 125,
   "metadata": {
    "id": "W3Lx8bLQSL1V"
   },
   "outputs": [
    {
     "data": {
      "text/plain": [
       "array([ 1,  2,  3,  4,  5,  6,  7,  8,  9, 10, 11, 12])"
      ]
     },
     "execution_count": 125,
     "metadata": {},
     "output_type": "execute_result"
    }
   ],
   "source": [
    "arr = np.arange(1, 13)\n",
    "arr"
   ]
  },
  {
   "cell_type": "markdown",
   "metadata": {
    "id": "76JffXiQSL1V"
   },
   "source": [
    "#### np.reshape()"
   ]
  },
  {
   "cell_type": "code",
   "execution_count": 126,
   "metadata": {
    "id": "lszpvd0QSL1V"
   },
   "outputs": [
    {
     "data": {
      "text/plain": [
       "array([[ 1,  2,  3],\n",
       "       [ 4,  5,  6],\n",
       "       [ 7,  8,  9],\n",
       "       [10, 11, 12]])"
      ]
     },
     "execution_count": 126,
     "metadata": {},
     "output_type": "execute_result"
    }
   ],
   "source": [
    "arr = np.reshape(arr, (4, 3))\n",
    "arr"
   ]
  },
  {
   "cell_type": "markdown",
   "metadata": {
    "id": "oRl19_P8SL1V"
   },
   "source": [
    "#### np.append()"
   ]
  },
  {
   "cell_type": "code",
   "execution_count": 127,
   "metadata": {
    "id": "eD-xawjvSL1V"
   },
   "outputs": [
    {
     "data": {
      "text/plain": [
       "array([ 1,  2,  3,  4,  5,  6,  7,  8,  9, 10, 11, 12, 10, 20, 30, 50, 40,\n",
       "       60])"
      ]
     },
     "execution_count": 127,
     "metadata": {},
     "output_type": "execute_result"
    }
   ],
   "source": [
    "np.append(arr, [10,20,30, 50, 40, 60]) # Flattens the array"
   ]
  },
  {
   "cell_type": "code",
   "execution_count": 131,
   "metadata": {},
   "outputs": [
    {
     "data": {
      "text/plain": [
       "array([[ 1,  2,  3],\n",
       "       [ 4,  5,  6],\n",
       "       [ 7,  8,  9],\n",
       "       [10, 11, 12],\n",
       "       [13, 14, 15]])"
      ]
     },
     "execution_count": 131,
     "metadata": {},
     "output_type": "execute_result"
    }
   ],
   "source": [
    "np.append(arr, np.reshape(np.array([13, 14, 15]), (1, 3)), axis = 0) # axis = 0 denotes row-wise"
   ]
  },
  {
   "cell_type": "code",
   "execution_count": 129,
   "metadata": {},
   "outputs": [
    {
     "data": {
      "text/plain": [
       "array([[ 1,  2,  3, 10],\n",
       "       [ 4,  5,  6, 20],\n",
       "       [ 7,  8,  9, 30],\n",
       "       [10, 11, 12, 40]])"
      ]
     },
     "execution_count": 129,
     "metadata": {},
     "output_type": "execute_result"
    }
   ],
   "source": [
    "np.append(arr, np.reshape(np.array([10, 20, 30, 40]), (4, 1)), axis = 1) # axis = 1 denotes col-wise"
   ]
  },
  {
   "cell_type": "markdown",
   "metadata": {
    "id": "FmxAPLupSL1W"
   },
   "source": [
    "#### np.insert()"
   ]
  },
  {
   "cell_type": "code",
   "execution_count": 132,
   "metadata": {
    "id": "-348fjyjSL1W"
   },
   "outputs": [
    {
     "data": {
      "text/plain": [
       "array([[ 1,  2,  3],\n",
       "       [ 4,  5,  6],\n",
       "       [ 7,  8,  9],\n",
       "       [10, 11, 12]])"
      ]
     },
     "execution_count": 132,
     "metadata": {},
     "output_type": "execute_result"
    }
   ],
   "source": [
    "arr = np.reshape(np.arange(1,13), (4,3))\n",
    "arr"
   ]
  },
  {
   "cell_type": "code",
   "execution_count": 133,
   "metadata": {
    "id": "7790frJvSL1X"
   },
   "outputs": [
    {
     "data": {
      "text/plain": [
       "array([ 1,  5,  2,  3,  4,  5,  6,  7,  8,  9, 10, 11, 12])"
      ]
     },
     "execution_count": 133,
     "metadata": {},
     "output_type": "execute_result"
    }
   ],
   "source": [
    "np.insert(arr, 1, 5) # Flattens the arr and inserts 5 at index 1"
   ]
  },
  {
   "cell_type": "code",
   "execution_count": 134,
   "metadata": {
    "id": "zlobpnLuSL1Z"
   },
   "outputs": [
    {
     "data": {
      "text/plain": [
       "array([[ 1,  2,  3],\n",
       "       [ 5,  5,  5],\n",
       "       [ 4,  5,  6],\n",
       "       [ 7,  8,  9],\n",
       "       [10, 11, 12]])"
      ]
     },
     "execution_count": 134,
     "metadata": {},
     "output_type": "execute_result"
    }
   ],
   "source": [
    "np.insert(arr, 1, 5, axis=0) # Inserts [5, 5, 5] as row 1"
   ]
  },
  {
   "cell_type": "code",
   "execution_count": 135,
   "metadata": {
    "id": "vu59b1XbSL1a"
   },
   "outputs": [
    {
     "data": {
      "text/plain": [
       "array([[ 1,  5,  2,  3],\n",
       "       [ 4,  5,  5,  6],\n",
       "       [ 7,  5,  8,  9],\n",
       "       [10,  5, 11, 12]])"
      ]
     },
     "execution_count": 135,
     "metadata": {},
     "output_type": "execute_result"
    }
   ],
   "source": [
    "np.insert(arr, 1, 5, axis=1) # Inserts [5, 5, 5, 5] as column 1"
   ]
  },
  {
   "cell_type": "code",
   "execution_count": 136,
   "metadata": {
    "id": "IshmcWfLSL1a"
   },
   "outputs": [
    {
     "data": {
      "text/plain": [
       "array([[ 1, 10,  2,  3],\n",
       "       [ 4, 20,  5,  6],\n",
       "       [ 7, 30,  8,  9],\n",
       "       [10, 40, 11, 12]])"
      ]
     },
     "execution_count": 136,
     "metadata": {},
     "output_type": "execute_result"
    }
   ],
   "source": [
    "np.insert(arr, 1, [10, 20, 30, 40], axis=1)"
   ]
  },
  {
   "cell_type": "code",
   "execution_count": 137,
   "metadata": {
    "id": "SjY7Zk99SL1a"
   },
   "outputs": [
    {
     "data": {
      "text/plain": [
       "array([[ 1,  2,  3],\n",
       "       [10, 20, 30],\n",
       "       [ 4,  5,  6],\n",
       "       [ 7,  8,  9],\n",
       "       [10, 11, 12]])"
      ]
     },
     "execution_count": 137,
     "metadata": {},
     "output_type": "execute_result"
    }
   ],
   "source": [
    "np.insert(arr, 1, [10, 20, 30], axis=0)"
   ]
  },
  {
   "cell_type": "markdown",
   "metadata": {
    "id": "Rkb1mtVlSL1a"
   },
   "source": [
    "#### np.delete()"
   ]
  },
  {
   "cell_type": "code",
   "execution_count": 138,
   "metadata": {
    "id": "1LshS_7-SL1a"
   },
   "outputs": [
    {
     "data": {
      "text/plain": [
       "array([[ 1,  2,  3],\n",
       "       [ 4,  5,  6],\n",
       "       [ 7,  8,  9],\n",
       "       [10, 11, 12]])"
      ]
     },
     "execution_count": 138,
     "metadata": {},
     "output_type": "execute_result"
    }
   ],
   "source": [
    "arr = np.reshape(np.arange(1,13), (4,3))\n",
    "arr"
   ]
  },
  {
   "cell_type": "code",
   "execution_count": 139,
   "metadata": {
    "id": "2npy2ILdSL1b"
   },
   "outputs": [
    {
     "data": {
      "text/plain": [
       "array([ 1,  3,  4,  5,  6,  7,  8,  9, 10, 11, 12])"
      ]
     },
     "execution_count": 139,
     "metadata": {},
     "output_type": "execute_result"
    }
   ],
   "source": [
    "np.delete(arr, 1) # Flattens the arr and deletes element at index 1"
   ]
  },
  {
   "cell_type": "code",
   "execution_count": 140,
   "metadata": {
    "id": "lzZICc76SL1b"
   },
   "outputs": [
    {
     "data": {
      "text/plain": [
       "array([[ 1,  2,  3],\n",
       "       [ 7,  8,  9],\n",
       "       [10, 11, 12]])"
      ]
     },
     "execution_count": 140,
     "metadata": {},
     "output_type": "execute_result"
    }
   ],
   "source": [
    "np.delete(arr, 1, axis=0) # deletes row 1"
   ]
  },
  {
   "cell_type": "code",
   "execution_count": 141,
   "metadata": {
    "id": "7gzPkIY2SL1b"
   },
   "outputs": [
    {
     "data": {
      "text/plain": [
       "array([[ 1,  3],\n",
       "       [ 4,  6],\n",
       "       [ 7,  9],\n",
       "       [10, 12]])"
      ]
     },
     "execution_count": 141,
     "metadata": {},
     "output_type": "execute_result"
    }
   ],
   "source": [
    "np.delete(arr, 1, axis=1) # deletes column 1"
   ]
  },
  {
   "cell_type": "code",
   "execution_count": 142,
   "metadata": {
    "id": "QSKdbkWWSL1c"
   },
   "outputs": [
    {
     "data": {
      "text/plain": [
       "array([[ 4,  5,  6],\n",
       "       [10, 11, 12]])"
      ]
     },
     "execution_count": 142,
     "metadata": {},
     "output_type": "execute_result"
    }
   ],
   "source": [
    "np.delete(arr,[0,2], axis=0) # deletes selected rows"
   ]
  },
  {
   "cell_type": "code",
   "execution_count": 143,
   "metadata": {
    "id": "Br8pH50ZSL1c"
   },
   "outputs": [
    {
     "data": {
      "text/plain": [
       "array([[ 2],\n",
       "       [ 5],\n",
       "       [ 8],\n",
       "       [11]])"
      ]
     },
     "execution_count": 143,
     "metadata": {},
     "output_type": "execute_result"
    }
   ],
   "source": [
    "np.delete(arr,[0,2], axis=1) # deletes selected columns"
   ]
  },
  {
   "cell_type": "markdown",
   "metadata": {
    "id": "qKuII5G5SL1d"
   },
   "source": [
    "#### np.hsplit(), np.vsplit()"
   ]
  },
  {
   "cell_type": "code",
   "execution_count": 144,
   "metadata": {
    "id": "G9Vgyyu4SL1d"
   },
   "outputs": [
    {
     "data": {
      "text/plain": [
       "array([[ 1,  2,  3,  4],\n",
       "       [ 5,  6,  7,  8],\n",
       "       [ 9, 10, 11, 12],\n",
       "       [13, 14, 15, 16],\n",
       "       [17, 18, 19, 20],\n",
       "       [21, 22, 23, 24]])"
      ]
     },
     "execution_count": 144,
     "metadata": {},
     "output_type": "execute_result"
    }
   ],
   "source": [
    "arr = np.reshape(np.arange(1, 25), (6,4))\n",
    "arr"
   ]
  },
  {
   "cell_type": "code",
   "execution_count": 145,
   "metadata": {
    "id": "D0aZdlUYSL1d"
   },
   "outputs": [
    {
     "data": {
      "text/plain": [
       "[array([[ 1,  2,  3,  4],\n",
       "        [ 5,  6,  7,  8],\n",
       "        [ 9, 10, 11, 12]]),\n",
       " array([[13, 14, 15, 16],\n",
       "        [17, 18, 19, 20],\n",
       "        [21, 22, 23, 24]])]"
      ]
     },
     "execution_count": 145,
     "metadata": {},
     "output_type": "execute_result"
    }
   ],
   "source": [
    "np.vsplit(arr, 2)"
   ]
  },
  {
   "cell_type": "code",
   "execution_count": 146,
   "metadata": {
    "id": "o85kXgOySL1d"
   },
   "outputs": [
    {
     "data": {
      "text/plain": [
       "[array([[ 1,  2],\n",
       "        [ 5,  6],\n",
       "        [ 9, 10],\n",
       "        [13, 14],\n",
       "        [17, 18],\n",
       "        [21, 22]]),\n",
       " array([[ 3,  4],\n",
       "        [ 7,  8],\n",
       "        [11, 12],\n",
       "        [15, 16],\n",
       "        [19, 20],\n",
       "        [23, 24]])]"
      ]
     },
     "execution_count": 146,
     "metadata": {},
     "output_type": "execute_result"
    }
   ],
   "source": [
    "np.hsplit(arr, 2)"
   ]
  },
  {
   "cell_type": "code",
   "execution_count": 147,
   "metadata": {},
   "outputs": [
    {
     "data": {
      "text/plain": [
       "(6, 4)"
      ]
     },
     "execution_count": 147,
     "metadata": {},
     "output_type": "execute_result"
    }
   ],
   "source": [
    "arr.shape"
   ]
  },
  {
   "cell_type": "markdown",
   "metadata": {
    "id": "HUuAK26fSL1d"
   },
   "source": [
    "#### flatten()"
   ]
  },
  {
   "cell_type": "code",
   "execution_count": 148,
   "metadata": {
    "id": "pZOR76k6SL1e"
   },
   "outputs": [
    {
     "data": {
      "text/plain": [
       "array([[ 1,  2,  3,  4],\n",
       "       [ 5,  6,  7,  8],\n",
       "       [ 9, 10, 11, 12],\n",
       "       [13, 14, 15, 16],\n",
       "       [17, 18, 19, 20],\n",
       "       [21, 22, 23, 24]])"
      ]
     },
     "execution_count": 148,
     "metadata": {},
     "output_type": "execute_result"
    }
   ],
   "source": [
    "arr"
   ]
  },
  {
   "cell_type": "code",
   "execution_count": 151,
   "metadata": {
    "id": "agJMSAfnSL1e"
   },
   "outputs": [
    {
     "data": {
      "text/plain": [
       "array([24, 23, 22, 21, 20, 19, 18, 17, 16, 15, 14, 13, 12, 11, 10,  9,  8,\n",
       "        7,  6,  5,  4,  3,  2,  1])"
      ]
     },
     "execution_count": 151,
     "metadata": {},
     "output_type": "execute_result"
    }
   ],
   "source": [
    "arr.flatten() # returns a 1-D array"
   ]
  },
  {
   "cell_type": "code",
   "execution_count": 150,
   "metadata": {
    "id": "agJMSAfnSL1e"
   },
   "outputs": [
    {
     "data": {
      "text/plain": [
       "array([ 1,  5,  9, 13, 17, 21,  2,  6, 10, 14, 18, 22,  3,  7, 11, 15, 19,\n",
       "       23,  4,  8, 12, 16, 20, 24])"
      ]
     },
     "execution_count": 150,
     "metadata": {},
     "output_type": "execute_result"
    }
   ],
   "source": [
    "arr.flatten(order = \"F\") # returns a 1-D array"
   ]
  },
  {
   "cell_type": "code",
   "execution_count": null,
   "metadata": {
    "id": "TCVZAK-hSL1e"
   },
   "outputs": [],
   "source": [
    "help(arr.flatten)"
   ]
  },
  {
   "cell_type": "markdown",
   "metadata": {},
   "source": [
    "#### np.sort()"
   ]
  },
  {
   "cell_type": "code",
   "execution_count": 164,
   "metadata": {},
   "outputs": [
    {
     "data": {
      "text/plain": [
       "array([305, 479, 348, 216, 219], dtype=int32)"
      ]
     },
     "execution_count": 164,
     "metadata": {},
     "output_type": "execute_result"
    }
   ],
   "source": [
    "products = np.array([\"P1\", \"P2\", \"P3\", \"P4\", \"P5\"])\n",
    "sales = np.random.randint(200, 600, 5)\n",
    "sales"
   ]
  },
  {
   "cell_type": "code",
   "execution_count": 165,
   "metadata": {},
   "outputs": [
    {
     "data": {
      "text/plain": [
       "array([216, 219, 305, 348, 479], dtype=int32)"
      ]
     },
     "execution_count": 165,
     "metadata": {},
     "output_type": "execute_result"
    }
   ],
   "source": [
    "np.sort(sales)  # ASC order"
   ]
  },
  {
   "cell_type": "code",
   "execution_count": 166,
   "metadata": {},
   "outputs": [
    {
     "data": {
      "text/plain": [
       "array([479, 348, 305, 219, 216], dtype=int32)"
      ]
     },
     "execution_count": 166,
     "metadata": {},
     "output_type": "execute_result"
    }
   ],
   "source": [
    "np.sort(sales)[::-1]  # DESC order"
   ]
  },
  {
   "cell_type": "markdown",
   "metadata": {},
   "source": [
    "###### Ex. Sort the products by sales"
   ]
  },
  {
   "cell_type": "code",
   "execution_count": 167,
   "metadata": {},
   "outputs": [
    {
     "data": {
      "text/plain": [
       "array([3, 4, 0, 2, 1])"
      ]
     },
     "execution_count": 167,
     "metadata": {},
     "output_type": "execute_result"
    }
   ],
   "source": [
    "np.argsort(sales)  # index position of original values in sales arr sorted in ASC order"
   ]
  },
  {
   "cell_type": "code",
   "execution_count": 168,
   "metadata": {},
   "outputs": [
    {
     "data": {
      "text/plain": [
       "array(['P4', 'P5', 'P1', 'P3', 'P2'], dtype='<U2')"
      ]
     },
     "execution_count": 168,
     "metadata": {},
     "output_type": "execute_result"
    }
   ],
   "source": [
    "s_ord = np.argsort(sales) \n",
    "products[s_ord]"
   ]
  },
  {
   "cell_type": "markdown",
   "metadata": {},
   "source": [
    "#### Examples on Coffee Shop Data Set"
   ]
  },
  {
   "cell_type": "code",
   "execution_count": 199,
   "metadata": {},
   "outputs": [],
   "source": [
    "import numpy as np\n",
    "products = np.array(['Caffe Latte', 'Cappuccino', 'Colombian', 'Darjeeling', 'Decaf Irish Cream', 'Earl Grey', 'Green Tea', 'Lemon', 'Mint', 'Regular Espresso'])\n",
    "sales = np.array([60014.0, 14068.0, 71060.0, 60014.0, 69925.0, 27711.0, 19231.0, 24873.0, 32825.0, 44109.0])\n",
    "profits = np.array([17444.0, 5041.0, 28390.0, 20459.0, 23432.0, 7691.0, -2954.0, 7159.0, 10722.0, 14902.0])\n",
    "target_profits = np.array([15934.0, 4924.0, 31814.0, 19649.0, 24934.0, 8461.0, 7090.0, 7084.0, 10135.0, 16306.0])\n",
    "target_sales = np.array([48909.0, 13070.0, 80916.0, 57368.0, 66906.0, 30402.0, 18212.0, 21628.0, 27336.0, 42102.0])"
   ]
  },
  {
   "cell_type": "markdown",
   "metadata": {},
   "source": [
    "###### Ex. How many products are there in the dataset?"
   ]
  },
  {
   "cell_type": "code",
   "execution_count": 185,
   "metadata": {},
   "outputs": [
    {
     "data": {
      "text/plain": [
       "10"
      ]
     },
     "execution_count": 185,
     "metadata": {},
     "output_type": "execute_result"
    }
   ],
   "source": [
    "sales.size"
   ]
  },
  {
   "cell_type": "code",
   "execution_count": 186,
   "metadata": {},
   "outputs": [
    {
     "data": {
      "text/plain": [
       "10"
      ]
     },
     "execution_count": 186,
     "metadata": {},
     "output_type": "execute_result"
    }
   ],
   "source": [
    "len(sales)"
   ]
  },
  {
   "cell_type": "markdown",
   "metadata": {},
   "source": [
    "###### Ex.  Sales greater than 50,000"
   ]
  },
  {
   "cell_type": "code",
   "execution_count": 187,
   "metadata": {},
   "outputs": [
    {
     "data": {
      "text/plain": [
       "array([60014., 71060., 60014., 69925.])"
      ]
     },
     "execution_count": 187,
     "metadata": {},
     "output_type": "execute_result"
    }
   ],
   "source": [
    "sales[sales > 50000]"
   ]
  },
  {
   "cell_type": "markdown",
   "metadata": {},
   "source": [
    "###### Ex.  Identify Losses"
   ]
  },
  {
   "cell_type": "code",
   "execution_count": 188,
   "metadata": {},
   "outputs": [
    {
     "data": {
      "text/plain": [
       "array([-2954.])"
      ]
     },
     "execution_count": 188,
     "metadata": {},
     "output_type": "execute_result"
    }
   ],
   "source": [
    "profits[profits < 0]"
   ]
  },
  {
   "cell_type": "markdown",
   "metadata": {},
   "source": [
    "###### Ex.  Products in loss"
   ]
  },
  {
   "cell_type": "code",
   "execution_count": 189,
   "metadata": {},
   "outputs": [
    {
     "data": {
      "text/plain": [
       "array(['Green Tea'], dtype='<U17')"
      ]
     },
     "execution_count": 189,
     "metadata": {},
     "output_type": "execute_result"
    }
   ],
   "source": [
    "products[profits < 0]"
   ]
  },
  {
   "cell_type": "markdown",
   "metadata": {},
   "source": [
    "###### Ex.  Product with maximum Sales"
   ]
  },
  {
   "cell_type": "code",
   "execution_count": 197,
   "metadata": {},
   "outputs": [
    {
     "data": {
      "text/plain": [
       "np.str_('Colombian')"
      ]
     },
     "execution_count": 197,
     "metadata": {},
     "output_type": "execute_result"
    }
   ],
   "source": [
    "products[np.argmax(sales)]"
   ]
  },
  {
   "cell_type": "code",
   "execution_count": 198,
   "metadata": {},
   "outputs": [
    {
     "data": {
      "text/plain": [
       "array(['Colombian'], dtype='<U17')"
      ]
     },
     "execution_count": 198,
     "metadata": {},
     "output_type": "execute_result"
    }
   ],
   "source": [
    "products[sales == np.max(sales)]"
   ]
  },
  {
   "cell_type": "markdown",
   "metadata": {},
   "source": [
    "###### Note - When two max values are present in the array"
   ]
  },
  {
   "cell_type": "code",
   "execution_count": 192,
   "metadata": {},
   "outputs": [],
   "source": [
    "products = np.array([\"P1\", \"P2\", \"P3\", \"P4\", \"P5\"])\n",
    "sales = np.array([10, 20, 30, 30, 20])"
   ]
  },
  {
   "cell_type": "code",
   "execution_count": 193,
   "metadata": {},
   "outputs": [
    {
     "data": {
      "text/plain": [
       "np.str_('P3')"
      ]
     },
     "execution_count": 193,
     "metadata": {},
     "output_type": "execute_result"
    }
   ],
   "source": [
    "products[np.argmax(sales)]"
   ]
  },
  {
   "cell_type": "code",
   "execution_count": 194,
   "metadata": {},
   "outputs": [
    {
     "data": {
      "text/plain": [
       "array(['P3', 'P4'], dtype='<U2')"
      ]
     },
     "execution_count": 194,
     "metadata": {},
     "output_type": "execute_result"
    }
   ],
   "source": [
    "products[sales == np.max(sales)]"
   ]
  },
  {
   "cell_type": "markdown",
   "metadata": {},
   "source": [
    "###### Ex. Identify the products meeting the Target Sales"
   ]
  },
  {
   "cell_type": "code",
   "execution_count": 202,
   "metadata": {},
   "outputs": [
    {
     "data": {
      "text/plain": [
       "array(['Caffe Latte', 'Cappuccino', 'Darjeeling', 'Decaf Irish Cream',\n",
       "       'Green Tea', 'Lemon', 'Mint', 'Regular Espresso'], dtype='<U17')"
      ]
     },
     "execution_count": 202,
     "metadata": {},
     "output_type": "execute_result"
    }
   ],
   "source": [
    "sale_ach = products[sales >= target_sales]\n",
    "sale_ach"
   ]
  },
  {
   "cell_type": "markdown",
   "metadata": {},
   "source": [
    "###### Ex. Are the above products meeting their profit target too? If not then display the products."
   ]
  },
  {
   "cell_type": "code",
   "execution_count": 207,
   "metadata": {},
   "outputs": [
    {
     "name": "stdout",
     "output_type": "stream",
     "text": [
      "No. These products do not achieve their profit targets -  ['Decaf Irish Cream' 'Green Tea' 'Regular Espresso']\n"
     ]
    }
   ],
   "source": [
    "profit_ach = products[profits >= target_profits]\n",
    "if np.all(np.isin(sale_ach, profit_ach)):\n",
    "    print(\"Yes, all products are also achieveing profit target\")\n",
    "else:\n",
    "    print(\"No. These products do not achieve their profit targets - \", np.setdiff1d(sale_ach, profit_ach))"
   ]
  },
  {
   "cell_type": "markdown",
   "metadata": {},
   "source": [
    "###### Ex. Identify products which are not achieving their profit target. Calculate their target status in percentage. Display the products in DESC order of their percentage status"
   ]
  },
  {
   "cell_type": "code",
   "execution_count": 209,
   "metadata": {},
   "outputs": [],
   "source": [
    "# Details of the product not achieveing their targets\n",
    "product_off = products[profits < target_profits]\n",
    "profit_off = profits[profits < target_profits]\n",
    "target_off = target_profits[profits < target_profits]"
   ]
  },
  {
   "cell_type": "code",
   "execution_count": 221,
   "metadata": {},
   "outputs": [
    {
     "data": {
      "text/plain": [
       "array([89.24, 93.98, 90.9 ,  0.  , 91.39])"
      ]
     },
     "execution_count": 221,
     "metadata": {},
     "output_type": "execute_result"
    }
   ],
   "source": [
    "# Calculating percetage of target achievement\n",
    "percentage = np.round(profit_off/target_off * 100, 2)\n",
    "# Mark the negavite % as 0\n",
    "percentage[percentage < 0] = 0\n",
    "percentage"
   ]
  },
  {
   "cell_type": "code",
   "execution_count": 222,
   "metadata": {},
   "outputs": [],
   "source": [
    "# Sorting the arrays \n",
    "s_ord = np.argsort(percentage)[::-1]"
   ]
  },
  {
   "cell_type": "code",
   "execution_count": 223,
   "metadata": {},
   "outputs": [
    {
     "name": "stdout",
     "output_type": "stream",
     "text": [
      "Decaf Irish Cream has achieved 93.98% of total profits\n",
      "Regular Espresso has achieved 91.39% of total profits\n",
      "Earl Grey has achieved 90.9% of total profits\n",
      "Colombian has achieved 89.24% of total profits\n",
      "Green Tea has achieved 0.0% of total profits\n"
     ]
    }
   ],
   "source": [
    "for prod, perc in zip(product_off[s_ord], percentage[s_ord]):\n",
    "    print(f\"{prod} has achieved {perc}% of total profits\")"
   ]
  },
  {
   "cell_type": "code",
   "execution_count": 224,
   "metadata": {},
   "outputs": [
    {
     "data": {
      "text/plain": [
       "array(['Colombian', 'Decaf Irish Cream', 'Earl Grey', 'Green Tea',\n",
       "       'Regular Espresso'], dtype='<U17')"
      ]
     },
     "execution_count": 224,
     "metadata": {},
     "output_type": "execute_result"
    }
   ],
   "source": [
    "product_off"
   ]
  },
  {
   "cell_type": "code",
   "execution_count": 225,
   "metadata": {},
   "outputs": [
    {
     "data": {
      "text/plain": [
       "array([89.24, 93.98, 90.9 ,  0.  , 91.39])"
      ]
     },
     "execution_count": 225,
     "metadata": {},
     "output_type": "execute_result"
    }
   ],
   "source": [
    "percentage"
   ]
  },
  {
   "cell_type": "code",
   "execution_count": 214,
   "metadata": {},
   "outputs": [
    {
     "data": {
      "text/plain": [
       "[(np.str_('Colombian'), np.float64(89.0)),\n",
       " (np.str_('Decaf Irish Cream'), np.float64(94.0)),\n",
       " (np.str_('Earl Grey'), np.float64(91.0)),\n",
       " (np.str_('Green Tea'), np.float64(0.0)),\n",
       " (np.str_('Regular Espresso'), np.float64(91.0))]"
      ]
     },
     "execution_count": 214,
     "metadata": {},
     "output_type": "execute_result"
    }
   ],
   "source": [
    "list(zip(product_off, percentage))  # Creats a sequence of tuples with values from the lists"
   ]
  },
  {
   "cell_type": "markdown",
   "metadata": {},
   "source": [
    "<hr><hr>"
   ]
  },
  {
   "cell_type": "markdown",
   "metadata": {
    "id": "mM6-kLpsaQo6"
   },
   "source": [
    "# Data visualization (Basics)\n",
    "\n",
    "- Representation of the data in a pictorial or graphical format\n",
    "- Allow us to get the intuitive understanding of the data\n",
    "- Helps to visualize the patterns in the data\n",
    "- Python offers multiple great graphing libraries that come packed with lots of different features.\n",
    "- Matplotlib: low level, provides lots of freedom\n",
    "- Pandas Visualization: easy to use interface, built on Matplotlib\n",
    "- Seaborn: high-level interface, great default styles\n",
    "- Plotly: can create interactive plots\n",
    "- Bokeh: used creating interactive visualizations for modern web browsers\""
   ]
  },
  {
   "cell_type": "markdown",
   "metadata": {
    "id": "oWgV45NhaQo-"
   },
   "source": [
    "### Primary Objects of matplotlib\n",
    "<img src = \"./images/figure.png\" align = left width = 300>\n",
    "<br><br><br><br><br><br><br><br>\n",
    "\n",
    "- The [figure] is the overall figure space that can contain one or more plots\n",
    "- The [axes] is the individual plots that are rendered within the figure"
   ]
  },
  {
   "cell_type": "markdown",
   "metadata": {
    "id": "t9b0g8O2aQo-"
   },
   "source": [
    "### Anatomy of a figure"
   ]
  },
  {
   "cell_type": "markdown",
   "metadata": {
    "id": "54B2DI0jaQo_"
   },
   "source": [
    "<img src = \"./images/figure_anatomy.jpg\" align = left width = 400>"
   ]
  },
  {
   "cell_type": "markdown",
   "metadata": {
    "id": "I5sDhUa2aQo_"
   },
   "source": [
    "### Using matplotlib.pyplot library to plot a chart"
   ]
  },
  {
   "cell_type": "markdown",
   "metadata": {
    "id": "pYtYRKOWaQo_"
   },
   "source": [
    "#### Installing library -\n",
    "\n",
    "!pip install matplotlib\n",
    "\n",
    "#### Importing library -"
   ]
  },
  {
   "cell_type": "code",
   "execution_count": 1,
   "metadata": {
    "id": "smSdWJrtaQo_"
   },
   "outputs": [],
   "source": [
    "import matplotlib.pyplot as plt"
   ]
  },
  {
   "cell_type": "markdown",
   "metadata": {},
   "source": [
    "###### Ex. Construct a line chart displaying the daily closing values of Sensex and Nifty throughout the days in September."
   ]
  },
  {
   "cell_type": "code",
   "execution_count": 14,
   "metadata": {
    "id": "KNciRcByaQpB"
   },
   "outputs": [],
   "source": [
    "import numpy as np\n",
    "dates = np.arange('2024-09-01', '2024-10-01', dtype='datetime64[D]')\n",
    "sensex = np.random.randint(79000, 82000, size = 30)\n",
    "nifty = np.random.randint(23000, 25000, size = 30)"
   ]
  },
  {
   "cell_type": "code",
   "execution_count": 42,
   "metadata": {},
   "outputs": [
    {
     "data": {
      "image/png": "[encoded data removed]",
      "text/plain": [
       "<Figure size 1200x200 with 1 Axes>"
      ]
     },
     "metadata": {},
     "output_type": "display_data"
    }
   ],
   "source": [
    "plt.figure(figsize=(12, 2))\n",
    "plt.plot(dates, nifty, color = \"teal\", ls = \"-\", marker = \"o\")\n",
    "plt.title(\"NIFTY in September\", loc = \"left\", color = \"darkslategrey\", size = \"medium\")\n",
    "plt.grid(axis=\"y\", color = \"lightgrey\", ls = \":\")\n",
    "plt.xticks(color = \"darkslategrey\", size = \"x-small\") #rotation = 20\n",
    "\n",
    "y_labels = np.arange(nifty.min()-300, nifty.max()+300, 300)\n",
    "plt.yticks(y_labels, y_labels, color = \"darkslategrey\", size = \"x-small\")\n",
    "\n",
    "plt.show()"
   ]
  },
  {
   "cell_type": "code",
   "execution_count": 52,
   "metadata": {
    "id": "4IzokfkwaQpG"
   },
   "outputs": [
    {
     "data": {
      "image/png": "[encoded data removed]",
      "text/plain": [
       "<Figure size 1200x200 with 1 Axes>"
      ]
     },
     "metadata": {},
     "output_type": "display_data"
    }
   ],
   "source": [
    "plt.figure(figsize=(12, 2))\n",
    "plt.plot(dates, nifty, color = \"teal\", ls = \"-\", marker = \"o\", label = \"NIFTY\")\n",
    "plt.plot(dates, sensex, color = \"orange\", ls = \"-\", marker = \"o\", label = \"SENSEX\")\n",
    "plt.title(\"NIFTY and SENSEX in September\", loc = \"left\", color = \"darkslategrey\", size = \"medium\")\n",
    "plt.grid(axis=\"y\", color = \"lightgrey\", ls = \":\")\n",
    "plt.xticks(color = \"darkslategrey\", size = \"x-small\") #rotation = 20\n",
    "plt.yticks(color = \"darkslategrey\", size = \"x-small\")\n",
    "plt.legend(labelcolor = \"darkslategrey\", fontsize = \"x-small\")\n",
    "plt.show()"
   ]
  },
  {
   "cell_type": "markdown",
   "metadata": {
    "id": "ph-aV1V9aQpG"
   },
   "source": [
    "#### Creating a subplot"
   ]
  },
  {
   "cell_type": "code",
   "execution_count": 69,
   "metadata": {},
   "outputs": [
    {
     "data": {
      "image/png": "[encoded data removed]",
      "text/plain": [
       "<Figure size 1200x400 with 2 Axes>"
      ]
     },
     "metadata": {},
     "output_type": "display_data"
    }
   ],
   "source": [
    "fig, axes = plt.subplots(figsize = (12, 4), nrows = 2, sharex=True)\n",
    "\n",
    "axes[0].plot(dates, nifty, color = \"teal\", ls = \"-\", marker = \"o\", label = \"NIFTY\")\n",
    "axes[0].set_title(\"NIFTY in September\", loc = \"left\", color = \"darkslategrey\", size = \"small\")\n",
    "axes[0].grid(axis=\"y\", color = \"lightgrey\", ls = \":\")\n",
    "y_labels = np.arange(nifty.min()-300, nifty.max()+300, 300)\n",
    "axes[0].set_yticks(y_labels, y_labels, color = \"darkslategrey\", size = \"x-small\")\n",
    "axes[0].legend(labelcolor = \"darkslategrey\", fontsize = \"x-small\")\n",
    "\n",
    "axes[1].plot(dates, sensex, color = \"orange\", ls = \"-\", marker = \"o\", label = \"SENSEX\")\n",
    "axes[1].set_title(\"SENSEX in September\", loc = \"left\", color = \"darkslategrey\", size = \"small\")\n",
    "axes[1].grid(axis=\"y\", color = \"lightgrey\", ls = \":\")\n",
    "axes[1].set_xticks(dates, dates, color = \"darkslategrey\", size = \"x-small\", rotation = 30)\n",
    "y_labels = np.arange(sensex.min()-300, sensex.max()+300, 500)\n",
    "axes[1].set_yticks(y_labels, y_labels, color = \"darkslategrey\", size = \"x-small\")\n",
    "axes[1].legend(labelcolor = \"darkslategrey\", fontsize = \"x-small\")\n",
    "plt.show()"
   ]
  },
  {
   "cell_type": "markdown",
   "metadata": {
    "id": "owb2idy1aQpH"
   },
   "source": [
    "### Additional chart types"
   ]
  },
  {
   "cell_type": "code",
   "execution_count": 71,
   "metadata": {
    "id": "9zFUcrLgaQpH"
   },
   "outputs": [],
   "source": [
    "import numpy as np\n",
    "products = np.array(['Caffe Latte', 'Cappuccino', 'Colombian', 'Darjeeling', 'Decaf Irish Cream', 'Earl Grey', 'Green Tea', 'Lemon', 'Mint', 'Regular Espresso'])\n",
    "sales = np.array([52248.0, 14068.0, 71060.0, 60014.0, 69925.0, 27711.0, 19231.0, 24873.0, 32825.0, 44109.0])\n",
    "profits = np.array([17444.0, 5041.0, 28390.0, 20459.0, 23432.0, 7691.0, -2954.0, 7159.0, 10722.0, 14902.0])\n",
    "target_profits = np.array([15934.0, 4924.0, 31814.0, 19649.0, 24934.0, 8461.0, 7090.0, 7084.0, 10135.0, 16306.0])\n",
    "target_sales = np.array([48909.0, 13070.0, 80916.0, 57368.0, 66906.0, 30402.0, 18212.0, 21628.0, 27336.0, 42102.0])"
   ]
  },
  {
   "cell_type": "markdown",
   "metadata": {
    "id": "DS08CfLIaQpH"
   },
   "source": [
    "#### Bar chart"
   ]
  },
  {
   "cell_type": "markdown",
   "metadata": {
    "id": "_5lCASO6aQpI"
   },
   "source": [
    "###### Ex. Create a bar chart displaying sales for different products. Incorporate the following elements into the chart:\n",
    "\n",
    "1. Add a title, grid lines, and an average line.\n",
    "2. Adjust the y-axis ticks to display in thousands.\n",
    "3. Include annotations for each bar, showing values in thousands.\n",
    "4. Sort the bars in descending order of sales                     "
   ]
  },
  {
   "cell_type": "code",
   "execution_count": 133,
   "metadata": {},
   "outputs": [
    {
     "data": {
      "image/png": "[encoded data removed]",
      "text/plain": [
       "<Figure size 1200x200 with 1 Axes>"
      ]
     },
     "metadata": {},
     "output_type": "display_data"
    }
   ],
   "source": [
    "fig = plt.figure(figsize=(12, 2))\n",
    "sort_order = np.argsort(sales)[::-1]\n",
    "plt.bar(products[sort_order], sales[sort_order], color = \"turquoise\", edgecolor = \"Black\", lw = 0.7, width = 0.6, label = \"Sales\")\n",
    "# Other properties\n",
    "plt.title(\"Sales across Products\", loc = \"left\", color = \"darkslategrey\", size = \"medium\")\n",
    "plt.grid(axis=\"y\", color = \"lightgrey\", ls = \":\")\n",
    "plt.xticks(color = \"darkslategrey\", size = \"x-small\")\n",
    "\n",
    "ticks = np.arange(0, sales.max()+10000, 10000).astype(int)\n",
    "y_labels = (ticks//1000).astype(str) + \"k\"\n",
    "plt.yticks(ticks, y_labels, color = \"darkslategrey\", size = \"x-small\")\n",
    "\n",
    "avg_sales = sales.mean()\n",
    "plt.axhline(avg_sales, label = f\"Avg Sales\", color = \"Orange\")\n",
    "plt.legend(labelcolor = \"darkslategrey\", fontsize = \"xx-small\", shadow = True, frameon = False)\n",
    "\n",
    "plt.annotate(f\"Avg Sales:{avg_sales}\", xy=(products.size - 1, avg_sales+2000),\n",
    "             color = \"darkslategrey\", size = \"xx-small\", ha = \"center\")\n",
    "\n",
    "for x_cord, y_cord in enumerate(sales[sort_order]) :\n",
    "    plt.annotate(f\"{np.round(y_cord/1000, 2)}k\", xy = (x_cord, y_cord + 2000), \n",
    "                color = \"navy\", size = \"xx-small\", ha = \"center\")\n",
    "\n",
    "plt.show()"
   ]
  },
  {
   "cell_type": "code",
   "execution_count": 128,
   "metadata": {},
   "outputs": [
    {
     "data": {
      "text/plain": [
       "[(0, np.float64(71060.0)),\n",
       " (1, np.float64(69925.0)),\n",
       " (2, np.float64(60014.0)),\n",
       " (3, np.float64(52248.0)),\n",
       " (4, np.float64(44109.0)),\n",
       " (5, np.float64(32825.0)),\n",
       " (6, np.float64(27711.0)),\n",
       " (7, np.float64(24873.0)),\n",
       " (8, np.float64(19231.0)),\n",
       " (9, np.float64(14068.0))]"
      ]
     },
     "execution_count": 128,
     "metadata": {},
     "output_type": "execute_result"
    }
   ],
   "source": [
    "list(enumerate(sales[sort_order])) # Generates a sequence of tuples with first value as counter and second value from the array"
   ]
  },
  {
   "cell_type": "code",
   "execution_count": null,
   "metadata": {},
   "outputs": [],
   "source": []
  },
  {
   "cell_type": "code",
   "execution_count": null,
   "metadata": {},
   "outputs": [],
   "source": []
  },
  {
   "cell_type": "code",
   "execution_count": null,
   "metadata": {},
   "outputs": [],
   "source": []
  },
  {
   "cell_type": "code",
   "execution_count": null,
   "metadata": {},
   "outputs": [],
   "source": []
  },
  {
   "cell_type": "code",
   "execution_count": null,
   "metadata": {},
   "outputs": [],
   "source": []
  },
  {
   "cell_type": "code",
   "execution_count": null,
   "metadata": {},
   "outputs": [],
   "source": []
  },
  {
   "cell_type": "code",
   "execution_count": null,
   "metadata": {},
   "outputs": [],
   "source": []
  },
  {
   "cell_type": "code",
   "execution_count": null,
   "metadata": {},
   "outputs": [],
   "source": []
  },
  {
   "cell_type": "code",
   "execution_count": null,
   "metadata": {},
   "outputs": [],
   "source": []
  },
  {
   "cell_type": "code",
   "execution_count": null,
   "metadata": {},
   "outputs": [],
   "source": []
  },
  {
   "cell_type": "code",
   "execution_count": null,
   "metadata": {},
   "outputs": [],
   "source": []
  },
  {
   "cell_type": "markdown",
   "metadata": {
    "id": "YykelSXtaQpI"
   },
   "source": [
    "#### Stacked bar chart"
   ]
  },
  {
   "cell_type": "markdown",
   "metadata": {},
   "source": [
    "###### Ex. Include profits in the above chart as a stacked bar chart"
   ]
  },
  {
   "cell_type": "code",
   "execution_count": null,
   "metadata": {},
   "outputs": [],
   "source": []
  },
  {
   "cell_type": "markdown",
   "metadata": {
    "id": "hThr6YSSaQpI"
   },
   "source": [
    "#### Side by Side Bar Chart"
   ]
  },
  {
   "cell_type": "markdown",
   "metadata": {},
   "source": [
    "###### Ex. Convert the stacked bar chart into side by side bar chart. Add following changes to the chart - \n",
    "1. Adjust the annotations co-ordinates\n",
    "2. Change color of negative profits to red"
   ]
  },
  {
   "cell_type": "code",
   "execution_count": null,
   "metadata": {},
   "outputs": [],
   "source": []
  },
  {
   "cell_type": "markdown",
   "metadata": {
    "id": "-mFLRkcKaQpJ"
   },
   "source": [
    "#### Bullet chart"
   ]
  },
  {
   "cell_type": "markdown",
   "metadata": {},
   "source": [
    "###### Ex. Design a bullet chart to illustrate profit target status. Ensure the chart includes the following components:\n",
    "\n",
    "1. Utilize a horizontal bar chart format.\n",
    "2. Represent profit values with bars, and indicate targets with a vertical line.\n",
    "3. Adjust the x-axis ticks to display in thousands.\n",
    "4. Calculate the percentage of target achievement and visually highlight it using a red-amber-green color scheme."
   ]
  },
  {
   "cell_type": "code",
   "execution_count": null,
   "metadata": {},
   "outputs": [],
   "source": []
  },
  {
   "cell_type": "markdown",
   "metadata": {
    "id": "wqake4BIaQpJ"
   },
   "source": [
    "#### Pie chart"
   ]
  },
  {
   "cell_type": "code",
   "execution_count": null,
   "metadata": {},
   "outputs": [],
   "source": []
  },
  {
   "cell_type": "markdown",
   "metadata": {
    "id": "cDNpqA7JaQpK"
   },
   "source": [
    "#### Scatter Plot"
   ]
  },
  {
   "cell_type": "code",
   "execution_count": null,
   "metadata": {},
   "outputs": [],
   "source": []
  },
  {
   "cell_type": "markdown",
   "metadata": {
    "id": "mTJaRZecaQpK"
   },
   "source": [
    "<hr><hr>"
   ]
  }
 ],
 "metadata": {
  "colab": {
   "provenance": []
  },
  "kernelspec": {
   "display_name": "Python 3 (ipykernel)",
   "language": "python",
   "name": "python3"
  },
  "language_info": {
   "codemirror_mode": {
    "name": "ipython",
    "version": 3
   },
   "file_extension": ".py",
   "mimetype": "text/x-python",
   "name": "python",
   "nbconvert_exporter": "python",
   "pygments_lexer": "ipython3",
   "version": "3.12.0"
  }
 },
 "nbformat": 4,
 "nbformat_minor": 4
}
